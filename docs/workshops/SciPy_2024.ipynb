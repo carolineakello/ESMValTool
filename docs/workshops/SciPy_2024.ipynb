{
  "cells": [
    {
      "cell_type": "markdown",
      "metadata": {
        "id": "view-in-github",
        "colab_type": "text"
      },
      "source": [
        "<a href=\"https://colab.research.google.com/github/carolineakello/ESMValTool/blob/main/docs/workshops/SciPy_2024.ipynb\" target=\"_parent\"><img src=\"https://colab.research.google.com/assets/colab-badge.svg\" alt=\"Open In Colab\"/></a>"
      ]
    },
    {
      "cell_type": "markdown",
      "metadata": {
        "id": "izw5kory4U6I"
      },
      "source": [
        "# SciPy 2024\n",
        "\n",
        "[![image](https://colab.research.google.com/assets/colab-badge.svg)](https://colab.research.google.com/github/gee-community/geemap/blob/master/docs/workshops/SciPy_2024.ipynb)\n",
        "\n",
        "The notebook contains source code for the presentation at SciPy 2024 - [Bridging the gap between Earth Engine and the Scientific Python Ecosystem](https://cfp.scipy.org/2024/talk/AJMBCU/).\n",
        "\n",
        "![](https://cfp.scipy.org/media/2024/submissions/AJMBCU/gee_scipy_t6zuVvH.png)"
      ]
    },
    {
      "cell_type": "markdown",
      "metadata": {
        "id": "49MjBnVa4U6L"
      },
      "source": [
        "## Install packages"
      ]
    },
    {
      "cell_type": "code",
      "execution_count": null,
      "metadata": {
        "id": "UiIxS5Vi4U6L",
        "outputId": "2aa314f5-9117-4caf-bbe5-fa3bcf5704de",
        "colab": {
          "base_uri": "https://localhost:8080/"
        }
      },
      "outputs": [
        {
          "output_type": "stream",
          "name": "stdout",
          "text": [
            "Requirement already satisfied: geemap in /usr/local/lib/python3.12/dist-packages (0.35.3)\n",
            "Requirement already satisfied: geopandas in /usr/local/lib/python3.12/dist-packages (1.1.1)\n",
            "Collecting dask-ee\n",
            "  Downloading dask_ee-0.0.4-py3-none-any.whl.metadata (5.4 kB)\n",
            "Collecting pydeck\n",
            "  Downloading pydeck-0.9.1-py2.py3-none-any.whl.metadata (4.1 kB)\n",
            "Collecting xee\n",
            "  Downloading xee-0.0.22-py3-none-any.whl.metadata (6.4 kB)\n",
            "Collecting hypercoast\n",
            "  Downloading hypercoast-0.15.0-py2.py3-none-any.whl.metadata (13 kB)\n",
            "Collecting pyvista\n",
            "  Downloading pyvista-0.46.3-py3-none-any.whl.metadata (15 kB)\n",
            "Collecting mapclassify\n",
            "  Downloading mapclassify-2.10.0-py3-none-any.whl.metadata (3.1 kB)\n",
            "Requirement already satisfied: bqplot in /usr/local/lib/python3.12/dist-packages (from geemap) (0.12.45)\n",
            "Requirement already satisfied: colour in /usr/local/lib/python3.12/dist-packages (from geemap) (0.1.5)\n",
            "Requirement already satisfied: earthengine-api>=1.0.0 in /usr/local/lib/python3.12/dist-packages (from geemap) (1.5.24)\n",
            "Requirement already satisfied: eerepr>=0.1.0 in /usr/local/lib/python3.12/dist-packages (from geemap) (0.1.2)\n",
            "Requirement already satisfied: folium>=0.17.0 in /usr/local/lib/python3.12/dist-packages (from geemap) (0.20.0)\n",
            "Requirement already satisfied: geocoder in /usr/local/lib/python3.12/dist-packages (from geemap) (1.38.1)\n",
            "Requirement already satisfied: ipyevents in /usr/local/lib/python3.12/dist-packages (from geemap) (2.0.4)\n",
            "Requirement already satisfied: ipyfilechooser>=0.6.0 in /usr/local/lib/python3.12/dist-packages (from geemap) (0.6.0)\n",
            "Requirement already satisfied: ipyleaflet>=0.19.2 in /usr/local/lib/python3.12/dist-packages (from geemap) (0.20.0)\n",
            "Requirement already satisfied: ipytree in /usr/local/lib/python3.12/dist-packages (from geemap) (0.2.2)\n",
            "Requirement already satisfied: matplotlib in /usr/local/lib/python3.12/dist-packages (from geemap) (3.10.0)\n",
            "Requirement already satisfied: numpy in /usr/local/lib/python3.12/dist-packages (from geemap) (2.0.2)\n",
            "Requirement already satisfied: pandas in /usr/local/lib/python3.12/dist-packages (from geemap) (2.2.2)\n",
            "Requirement already satisfied: plotly in /usr/local/lib/python3.12/dist-packages (from geemap) (5.24.1)\n",
            "Requirement already satisfied: pyperclip in /usr/local/lib/python3.12/dist-packages (from geemap) (1.11.0)\n",
            "Requirement already satisfied: pyshp>=2.3.1 in /usr/local/lib/python3.12/dist-packages (from geemap) (3.0.2.post1)\n",
            "Requirement already satisfied: python-box in /usr/local/lib/python3.12/dist-packages (from geemap) (7.3.2)\n",
            "Requirement already satisfied: scooby in /usr/local/lib/python3.12/dist-packages (from geemap) (0.10.2)\n",
            "Requirement already satisfied: pyogrio>=0.7.2 in /usr/local/lib/python3.12/dist-packages (from geopandas) (0.11.1)\n",
            "Requirement already satisfied: packaging in /usr/local/lib/python3.12/dist-packages (from geopandas) (25.0)\n",
            "Requirement already satisfied: pyproj>=3.5.0 in /usr/local/lib/python3.12/dist-packages (from geopandas) (3.7.2)\n",
            "Requirement already satisfied: shapely>=2.0.0 in /usr/local/lib/python3.12/dist-packages (from geopandas) (2.1.2)\n",
            "Requirement already satisfied: dask[dataframe] in /usr/local/lib/python3.12/dist-packages (from dask-ee) (2025.5.0)\n",
            "Requirement already satisfied: jinja2>=2.10.1 in /usr/local/lib/python3.12/dist-packages (from pydeck) (3.1.6)\n",
            "Requirement already satisfied: xarray[parallel] in /usr/local/lib/python3.12/dist-packages (from xee) (2025.10.1)\n",
            "Collecting affine (from xee)\n",
            "  Downloading affine-2.4.0-py3-none-any.whl.metadata (4.0 kB)\n",
            "Collecting earthaccess (from hypercoast)\n",
            "  Downloading earthaccess-0.15.1-py3-none-any.whl.metadata (9.6 kB)\n",
            "Requirement already satisfied: h5netcdf in /usr/local/lib/python3.12/dist-packages (from hypercoast) (1.7.2)\n",
            "Collecting hvplot (from hypercoast)\n",
            "  Downloading hvplot-0.12.1-py3-none-any.whl.metadata (19 kB)\n",
            "Collecting leafmap>=0.38.0 (from hypercoast)\n",
            "  Downloading leafmap-0.55.0-py2.py3-none-any.whl.metadata (17 kB)\n",
            "Collecting localtileserver (from hypercoast)\n",
            "  Downloading localtileserver-0.10.6-py3-none-any.whl.metadata (5.2 kB)\n",
            "Collecting netcdf4 (from hypercoast)\n",
            "  Downloading netcdf4-1.7.3-cp311-abi3-manylinux_2_27_x86_64.manylinux_2_28_x86_64.whl.metadata (1.9 kB)\n",
            "Requirement already satisfied: openpyxl in /usr/local/lib/python3.12/dist-packages (from hypercoast) (3.1.5)\n",
            "Requirement already satisfied: psutil in /usr/local/lib/python3.12/dist-packages (from hypercoast) (5.9.5)\n",
            "Collecting rioxarray (from hypercoast)\n",
            "  Downloading rioxarray-0.20.0-py3-none-any.whl.metadata (5.4 kB)\n",
            "Collecting s3fs (from hypercoast)\n",
            "  Downloading s3fs-2025.9.0-py3-none-any.whl.metadata (1.4 kB)\n",
            "Requirement already satisfied: scikit-learn in /usr/local/lib/python3.12/dist-packages (from hypercoast) (1.6.1)\n",
            "Requirement already satisfied: scipy in /usr/local/lib/python3.12/dist-packages (from hypercoast) (1.16.2)\n",
            "Requirement already satisfied: seaborn in /usr/local/lib/python3.12/dist-packages (from hypercoast) (0.13.2)\n",
            "Requirement already satisfied: pillow in /usr/local/lib/python3.12/dist-packages (from pyvista) (11.3.0)\n",
            "Requirement already satisfied: pooch in /usr/local/lib/python3.12/dist-packages (from pyvista) (1.8.2)\n",
            "Requirement already satisfied: typing-extensions>=4.10 in /usr/local/lib/python3.12/dist-packages (from pyvista) (4.15.0)\n",
            "Collecting vtk!=9.4.0 (from pyvista)\n",
            "  Downloading vtk-9.5.2-cp312-cp312-manylinux2014_x86_64.manylinux_2_17_x86_64.whl.metadata (5.6 kB)\n",
            "Requirement already satisfied: networkx>=3.2 in /usr/local/lib/python3.12/dist-packages (from mapclassify) (3.5)\n",
            "Requirement already satisfied: google-cloud-storage in /usr/local/lib/python3.12/dist-packages (from earthengine-api>=1.0.0->geemap) (2.19.0)\n",
            "Requirement already satisfied: google-api-python-client>=1.12.1 in /usr/local/lib/python3.12/dist-packages (from earthengine-api>=1.0.0->geemap) (2.185.0)\n",
            "Requirement already satisfied: google-auth>=1.4.1 in /usr/local/lib/python3.12/dist-packages (from earthengine-api>=1.0.0->geemap) (2.38.0)\n",
            "Requirement already satisfied: google-auth-httplib2>=0.0.3 in /usr/local/lib/python3.12/dist-packages (from earthengine-api>=1.0.0->geemap) (0.2.0)\n",
            "Requirement already satisfied: httplib2<1dev,>=0.9.2 in /usr/local/lib/python3.12/dist-packages (from earthengine-api>=1.0.0->geemap) (0.31.0)\n",
            "Requirement already satisfied: requests in /usr/local/lib/python3.12/dist-packages (from earthengine-api>=1.0.0->geemap) (2.32.4)\n",
            "Requirement already satisfied: branca>=0.6.0 in /usr/local/lib/python3.12/dist-packages (from folium>=0.17.0->geemap) (0.8.2)\n",
            "Requirement already satisfied: xyzservices in /usr/local/lib/python3.12/dist-packages (from folium>=0.17.0->geemap) (2025.4.0)\n",
            "Requirement already satisfied: ipywidgets in /usr/local/lib/python3.12/dist-packages (from ipyfilechooser>=0.6.0->geemap) (7.7.1)\n",
            "Requirement already satisfied: jupyter-leaflet<0.21,>=0.20 in /usr/local/lib/python3.12/dist-packages (from ipyleaflet>=0.19.2->geemap) (0.20.0)\n",
            "Requirement already satisfied: traittypes<3,>=0.2.1 in /usr/local/lib/python3.12/dist-packages (from ipyleaflet>=0.19.2->geemap) (0.2.1)\n",
            "Requirement already satisfied: MarkupSafe>=2.0 in /usr/local/lib/python3.12/dist-packages (from jinja2>=2.10.1->pydeck) (3.0.3)\n",
            "Requirement already satisfied: anywidget in /usr/local/lib/python3.12/dist-packages (from leafmap>=0.38.0->hypercoast) (0.9.18)\n",
            "Collecting duckdb>=1.4.1 (from leafmap>=0.38.0->hypercoast)\n",
            "  Downloading duckdb-1.4.1-cp312-cp312-manylinux_2_27_x86_64.manylinux_2_28_x86_64.whl.metadata (14 kB)\n",
            "Requirement already satisfied: gdown in /usr/local/lib/python3.12/dist-packages (from leafmap>=0.38.0->hypercoast) (5.2.0)\n",
            "Collecting geojson (from leafmap>=0.38.0->hypercoast)\n",
            "  Downloading geojson-3.2.0-py3-none-any.whl.metadata (16 kB)\n",
            "Collecting ipyvuetify (from leafmap>=0.38.0->hypercoast)\n",
            "  Downloading ipyvuetify-1.11.3-py2.py3-none-any.whl.metadata (7.5 kB)\n",
            "Collecting maplibre (from leafmap>=0.38.0->hypercoast)\n",
            "  Downloading maplibre-0.3.5-py3-none-any.whl.metadata (4.0 kB)\n",
            "Collecting pystac-client (from leafmap>=0.38.0->hypercoast)\n",
            "  Downloading pystac_client-0.9.0-py3-none-any.whl.metadata (3.1 kB)\n",
            "Collecting whiteboxgui (from leafmap>=0.38.0->hypercoast)\n",
            "  Downloading whiteboxgui-2.3.0-py2.py3-none-any.whl.metadata (5.7 kB)\n",
            "Requirement already satisfied: contourpy>=1.0.1 in /usr/local/lib/python3.12/dist-packages (from matplotlib->geemap) (1.3.3)\n",
            "Requirement already satisfied: cycler>=0.10 in /usr/local/lib/python3.12/dist-packages (from matplotlib->geemap) (0.12.1)\n",
            "Requirement already satisfied: fonttools>=4.22.0 in /usr/local/lib/python3.12/dist-packages (from matplotlib->geemap) (4.60.1)\n",
            "Requirement already satisfied: kiwisolver>=1.3.1 in /usr/local/lib/python3.12/dist-packages (from matplotlib->geemap) (1.4.9)\n",
            "Requirement already satisfied: pyparsing>=2.3.1 in /usr/local/lib/python3.12/dist-packages (from matplotlib->geemap) (3.2.5)\n",
            "Requirement already satisfied: python-dateutil>=2.7 in /usr/local/lib/python3.12/dist-packages (from matplotlib->geemap) (2.9.0.post0)\n",
            "Requirement already satisfied: pytz>=2020.1 in /usr/local/lib/python3.12/dist-packages (from pandas->geemap) (2025.2)\n",
            "Requirement already satisfied: tzdata>=2022.7 in /usr/local/lib/python3.12/dist-packages (from pandas->geemap) (2025.2)\n",
            "Requirement already satisfied: certifi in /usr/local/lib/python3.12/dist-packages (from pyogrio>=0.7.2->geopandas) (2025.10.5)\n",
            "Requirement already satisfied: joblib>=1.2.0 in /usr/local/lib/python3.12/dist-packages (from scikit-learn->hypercoast) (1.5.2)\n",
            "Requirement already satisfied: threadpoolctl>=3.1.0 in /usr/local/lib/python3.12/dist-packages (from scikit-learn->hypercoast) (3.6.0)\n",
            "Requirement already satisfied: traitlets>=4.3.0 in /usr/local/lib/python3.12/dist-packages (from bqplot->geemap) (5.7.1)\n",
            "Requirement already satisfied: click>=8.1 in /usr/local/lib/python3.12/dist-packages (from dask[dataframe]->dask-ee) (8.3.0)\n",
            "Requirement already satisfied: cloudpickle>=3.0.0 in /usr/local/lib/python3.12/dist-packages (from dask[dataframe]->dask-ee) (3.1.1)\n",
            "Requirement already satisfied: fsspec>=2021.09.0 in /usr/local/lib/python3.12/dist-packages (from dask[dataframe]->dask-ee) (2025.3.0)\n",
            "Requirement already satisfied: partd>=1.4.0 in /usr/local/lib/python3.12/dist-packages (from dask[dataframe]->dask-ee) (1.4.2)\n",
            "Requirement already satisfied: pyyaml>=5.3.1 in /usr/local/lib/python3.12/dist-packages (from dask[dataframe]->dask-ee) (6.0.3)\n",
            "Requirement already satisfied: toolz>=0.10.0 in /usr/local/lib/python3.12/dist-packages (from dask[dataframe]->dask-ee) (0.12.1)\n",
            "Requirement already satisfied: pyarrow>=14.0.1 in /usr/local/lib/python3.12/dist-packages (from dask[dataframe]->dask-ee) (18.1.0)\n",
            "Requirement already satisfied: importlib-resources>=6.3.2 in /usr/local/lib/python3.12/dist-packages (from earthaccess->hypercoast) (6.5.2)\n",
            "Collecting multimethod>=1.8 (from earthaccess->hypercoast)\n",
            "  Downloading multimethod-2.0-py3-none-any.whl.metadata (9.2 kB)\n",
            "Collecting pqdm>=0.1 (from earthaccess->hypercoast)\n",
            "  Downloading pqdm-0.2.0-py2.py3-none-any.whl.metadata (3.2 kB)\n",
            "Collecting python-cmr>=0.10.0 (from earthaccess->hypercoast)\n",
            "  Downloading python_cmr-0.13.0-py3-none-any.whl.metadata (10 kB)\n",
            "Collecting tenacity>=9.0 (from earthaccess->hypercoast)\n",
            "  Downloading tenacity-9.1.2-py3-none-any.whl.metadata (1.2 kB)\n",
            "Collecting tinynetrc>=1.3.1 (from earthaccess->hypercoast)\n",
            "  Downloading tinynetrc-1.3.1-py2.py3-none-any.whl.metadata (2.9 kB)\n",
            "Collecting aiobotocore<3.0.0,>=2.5.4 (from s3fs->hypercoast)\n",
            "  Downloading aiobotocore-2.25.0-py3-none-any.whl.metadata (25 kB)\n",
            "Collecting fsspec>=2021.09.0 (from dask[dataframe]->dask-ee)\n",
            "  Downloading fsspec-2025.9.0-py3-none-any.whl.metadata (10 kB)\n",
            "Requirement already satisfied: aiohttp!=4.0.0a0,!=4.0.0a1 in /usr/local/lib/python3.12/dist-packages (from s3fs->hypercoast) (3.13.1)\n",
            "Requirement already satisfied: future in /usr/local/lib/python3.12/dist-packages (from geocoder->geemap) (1.0.0)\n",
            "Requirement already satisfied: ratelim in /usr/local/lib/python3.12/dist-packages (from geocoder->geemap) (0.1.6)\n",
            "Requirement already satisfied: six in /usr/local/lib/python3.12/dist-packages (from geocoder->geemap) (1.17.0)\n",
            "Requirement already satisfied: h5py in /usr/local/lib/python3.12/dist-packages (from h5netcdf->hypercoast) (3.15.1)\n",
            "Requirement already satisfied: bokeh>=3.1 in /usr/local/lib/python3.12/dist-packages (from hvplot->hypercoast) (3.7.3)\n",
            "Requirement already satisfied: colorcet>=2 in /usr/local/lib/python3.12/dist-packages (from hvplot->hypercoast) (3.1.0)\n",
            "Requirement already satisfied: holoviews>=1.19.0 in /usr/local/lib/python3.12/dist-packages (from hvplot->hypercoast) (1.21.0)\n",
            "Requirement already satisfied: panel>=1.0 in /usr/local/lib/python3.12/dist-packages (from hvplot->hypercoast) (1.8.2)\n",
            "Requirement already satisfied: param<3.0,>=1.12.0 in /usr/local/lib/python3.12/dist-packages (from hvplot->hypercoast) (2.2.1)\n",
            "Requirement already satisfied: flask<4,>=2.0.0 in /usr/local/lib/python3.12/dist-packages (from localtileserver->hypercoast) (3.1.2)\n",
            "Collecting Flask-Caching (from localtileserver->hypercoast)\n",
            "  Downloading Flask_Caching-2.3.1-py3-none-any.whl.metadata (2.2 kB)\n",
            "Collecting flask-cors (from localtileserver->hypercoast)\n",
            "  Downloading flask_cors-6.0.1-py3-none-any.whl.metadata (5.3 kB)\n",
            "Collecting flask-restx>=1.3.0 (from localtileserver->hypercoast)\n",
            "  Downloading flask_restx-1.3.2-py2.py3-none-any.whl.metadata (9.3 kB)\n",
            "Collecting rio-tiler (from localtileserver->hypercoast)\n",
            "  Downloading rio_tiler-7.9.2-py3-none-any.whl.metadata (12 kB)\n",
            "Collecting rio-cogeo (from localtileserver->hypercoast)\n",
            "  Downloading rio_cogeo-5.4.2-py3-none-any.whl.metadata (4.7 kB)\n",
            "Collecting server-thread (from localtileserver->hypercoast)\n",
            "  Downloading server_thread-0.3.0-py3-none-any.whl.metadata (5.3 kB)\n",
            "Requirement already satisfied: werkzeug in /usr/local/lib/python3.12/dist-packages (from localtileserver->hypercoast) (3.1.3)\n",
            "Collecting cftime (from netcdf4->hypercoast)\n",
            "  Downloading cftime-1.6.5-cp312-cp312-manylinux2014_x86_64.manylinux_2_17_x86_64.whl.metadata (8.7 kB)\n",
            "Requirement already satisfied: et-xmlfile in /usr/local/lib/python3.12/dist-packages (from openpyxl->hypercoast) (2.0.0)\n",
            "Requirement already satisfied: platformdirs>=2.5.0 in /usr/local/lib/python3.12/dist-packages (from pooch->pyvista) (4.5.0)\n",
            "Collecting rasterio>=1.4.3 (from rioxarray->hypercoast)\n",
            "  Downloading rasterio-1.4.3-cp312-cp312-manylinux_2_17_x86_64.manylinux2014_x86_64.whl.metadata (9.1 kB)\n",
            "Collecting aioitertools<1.0.0,>=0.5.1 (from aiobotocore<3.0.0,>=2.5.4->s3fs->hypercoast)\n",
            "  Downloading aioitertools-0.12.0-py3-none-any.whl.metadata (3.8 kB)\n",
            "Collecting botocore<1.40.50,>=1.40.46 (from aiobotocore<3.0.0,>=2.5.4->s3fs->hypercoast)\n",
            "  Downloading botocore-1.40.49-py3-none-any.whl.metadata (5.7 kB)\n",
            "Collecting jmespath<2.0.0,>=0.7.1 (from aiobotocore<3.0.0,>=2.5.4->s3fs->hypercoast)\n",
            "  Downloading jmespath-1.0.1-py3-none-any.whl.metadata (7.6 kB)\n",
            "Requirement already satisfied: multidict<7.0.0,>=6.0.0 in /usr/local/lib/python3.12/dist-packages (from aiobotocore<3.0.0,>=2.5.4->s3fs->hypercoast) (6.7.0)\n",
            "Collecting wrapt<2.0.0,>=1.10.10 (from aiobotocore<3.0.0,>=2.5.4->s3fs->hypercoast)\n",
            "  Downloading wrapt-1.17.3-cp312-cp312-manylinux1_x86_64.manylinux_2_28_x86_64.manylinux_2_5_x86_64.whl.metadata (6.4 kB)\n",
            "Requirement already satisfied: aiohappyeyeballs>=2.5.0 in /usr/local/lib/python3.12/dist-packages (from aiohttp!=4.0.0a0,!=4.0.0a1->s3fs->hypercoast) (2.6.1)\n",
            "Requirement already satisfied: aiosignal>=1.4.0 in /usr/local/lib/python3.12/dist-packages (from aiohttp!=4.0.0a0,!=4.0.0a1->s3fs->hypercoast) (1.4.0)\n",
            "Requirement already satisfied: attrs>=17.3.0 in /usr/local/lib/python3.12/dist-packages (from aiohttp!=4.0.0a0,!=4.0.0a1->s3fs->hypercoast) (25.4.0)\n",
            "Requirement already satisfied: frozenlist>=1.1.1 in /usr/local/lib/python3.12/dist-packages (from aiohttp!=4.0.0a0,!=4.0.0a1->s3fs->hypercoast) (1.8.0)\n",
            "Requirement already satisfied: propcache>=0.2.0 in /usr/local/lib/python3.12/dist-packages (from aiohttp!=4.0.0a0,!=4.0.0a1->s3fs->hypercoast) (0.4.1)\n",
            "Requirement already satisfied: yarl<2.0,>=1.17.0 in /usr/local/lib/python3.12/dist-packages (from aiohttp!=4.0.0a0,!=4.0.0a1->s3fs->hypercoast) (1.22.0)\n",
            "Requirement already satisfied: narwhals>=1.13 in /usr/local/lib/python3.12/dist-packages (from bokeh>=3.1->hvplot->hypercoast) (2.9.0)\n",
            "Requirement already satisfied: tornado>=6.2 in /usr/local/lib/python3.12/dist-packages (from bokeh>=3.1->hvplot->hypercoast) (6.5.1)\n",
            "Requirement already satisfied: blinker>=1.9.0 in /usr/local/lib/python3.12/dist-packages (from flask<4,>=2.0.0->localtileserver->hypercoast) (1.9.0)\n",
            "Requirement already satisfied: itsdangerous>=2.2.0 in /usr/local/lib/python3.12/dist-packages (from flask<4,>=2.0.0->localtileserver->hypercoast) (2.2.0)\n",
            "Collecting aniso8601>=0.82 (from flask-restx>=1.3.0->localtileserver->hypercoast)\n",
            "  Downloading aniso8601-10.0.1-py2.py3-none-any.whl.metadata (23 kB)\n",
            "Requirement already satisfied: jsonschema in /usr/local/lib/python3.12/dist-packages (from flask-restx>=1.3.0->localtileserver->hypercoast) (4.25.1)\n",
            "Requirement already satisfied: referencing in /usr/local/lib/python3.12/dist-packages (from flask-restx>=1.3.0->localtileserver->hypercoast) (0.37.0)\n",
            "Requirement already satisfied: google-api-core!=2.0.*,!=2.1.*,!=2.2.*,!=2.3.0,<3.0.0,>=1.31.5 in /usr/local/lib/python3.12/dist-packages (from google-api-python-client>=1.12.1->earthengine-api>=1.0.0->geemap) (2.26.0)\n",
            "Requirement already satisfied: uritemplate<5,>=3.0.1 in /usr/local/lib/python3.12/dist-packages (from google-api-python-client>=1.12.1->earthengine-api>=1.0.0->geemap) (4.2.0)\n",
            "Requirement already satisfied: cachetools<6.0,>=2.0.0 in /usr/local/lib/python3.12/dist-packages (from google-auth>=1.4.1->earthengine-api>=1.0.0->geemap) (5.5.2)\n",
            "Requirement already satisfied: pyasn1-modules>=0.2.1 in /usr/local/lib/python3.12/dist-packages (from google-auth>=1.4.1->earthengine-api>=1.0.0->geemap) (0.4.2)\n",
            "Requirement already satisfied: rsa<5,>=3.1.4 in /usr/local/lib/python3.12/dist-packages (from google-auth>=1.4.1->earthengine-api>=1.0.0->geemap) (4.9.1)\n",
            "Requirement already satisfied: pyviz-comms>=2.1 in /usr/local/lib/python3.12/dist-packages (from holoviews>=1.19.0->hvplot->hypercoast) (3.0.6)\n",
            "Requirement already satisfied: ipykernel>=4.5.1 in /usr/local/lib/python3.12/dist-packages (from ipywidgets->ipyfilechooser>=0.6.0->geemap) (6.17.1)\n",
            "Requirement already satisfied: ipython-genutils~=0.2.0 in /usr/local/lib/python3.12/dist-packages (from ipywidgets->ipyfilechooser>=0.6.0->geemap) (0.2.0)\n",
            "Requirement already satisfied: widgetsnbextension~=3.6.0 in /usr/local/lib/python3.12/dist-packages (from ipywidgets->ipyfilechooser>=0.6.0->geemap) (3.6.10)\n",
            "Requirement already satisfied: ipython>=4.0.0 in /usr/local/lib/python3.12/dist-packages (from ipywidgets->ipyfilechooser>=0.6.0->geemap) (7.34.0)\n",
            "Requirement already satisfied: jupyterlab-widgets>=1.0.0 in /usr/local/lib/python3.12/dist-packages (from ipywidgets->ipyfilechooser>=0.6.0->geemap) (3.0.15)\n",
            "Requirement already satisfied: bleach in /usr/local/lib/python3.12/dist-packages (from panel>=1.0->hvplot->hypercoast) (6.2.0)\n",
            "Requirement already satisfied: linkify-it-py in /usr/local/lib/python3.12/dist-packages (from panel>=1.0->hvplot->hypercoast) (2.0.3)\n",
            "Requirement already satisfied: markdown in /usr/local/lib/python3.12/dist-packages (from panel>=1.0->hvplot->hypercoast) (3.9)\n",
            "Requirement already satisfied: markdown-it-py in /usr/local/lib/python3.12/dist-packages (from panel>=1.0->hvplot->hypercoast) (4.0.0)\n",
            "Requirement already satisfied: mdit-py-plugins in /usr/local/lib/python3.12/dist-packages (from panel>=1.0->hvplot->hypercoast) (0.5.0)\n",
            "Requirement already satisfied: tqdm in /usr/local/lib/python3.12/dist-packages (from panel>=1.0->hvplot->hypercoast) (4.67.1)\n",
            "Requirement already satisfied: locket in /usr/local/lib/python3.12/dist-packages (from partd>=1.4.0->dask[dataframe]->dask-ee) (1.0.0)\n",
            "Collecting bounded-pool-executor (from pqdm>=0.1->earthaccess->hypercoast)\n",
            "  Downloading bounded_pool_executor-0.0.3-py3-none-any.whl.metadata (2.7 kB)\n",
            "Collecting cligj>=0.5 (from rasterio>=1.4.3->rioxarray->hypercoast)\n",
            "  Downloading cligj-0.7.2-py3-none-any.whl.metadata (5.0 kB)\n",
            "Collecting click-plugins (from rasterio>=1.4.3->rioxarray->hypercoast)\n",
            "  Downloading click_plugins-1.1.1.2-py2.py3-none-any.whl.metadata (6.5 kB)\n",
            "Requirement already satisfied: charset_normalizer<4,>=2 in /usr/local/lib/python3.12/dist-packages (from requests->earthengine-api>=1.0.0->geemap) (3.4.4)\n",
            "Requirement already satisfied: idna<4,>=2.5 in /usr/local/lib/python3.12/dist-packages (from requests->earthengine-api>=1.0.0->geemap) (3.11)\n",
            "Requirement already satisfied: urllib3<3,>=1.21.1 in /usr/local/lib/python3.12/dist-packages (from requests->earthengine-api>=1.0.0->geemap) (2.5.0)\n",
            "Requirement already satisfied: psygnal>=0.8.1 in /usr/local/lib/python3.12/dist-packages (from anywidget->leafmap>=0.38.0->hypercoast) (0.15.0)\n",
            "Collecting lz4>=4.3.2 (from dask[dataframe]->dask-ee)\n",
            "  Downloading lz4-4.4.4-cp312-cp312-manylinux_2_17_x86_64.manylinux2014_x86_64.whl.metadata (3.8 kB)\n",
            "Collecting cachelib>=0.9.0 (from Flask-Caching->localtileserver->hypercoast)\n",
            "  Downloading cachelib-0.13.0-py3-none-any.whl.metadata (2.0 kB)\n",
            "Requirement already satisfied: beautifulsoup4 in /usr/local/lib/python3.12/dist-packages (from gdown->leafmap>=0.38.0->hypercoast) (4.13.5)\n",
            "Requirement already satisfied: filelock in /usr/local/lib/python3.12/dist-packages (from gdown->leafmap>=0.38.0->hypercoast) (3.20.0)\n",
            "Requirement already satisfied: google-cloud-core<3.0dev,>=2.3.0 in /usr/local/lib/python3.12/dist-packages (from google-cloud-storage->earthengine-api>=1.0.0->geemap) (2.4.3)\n",
            "Requirement already satisfied: google-resumable-media>=2.7.2 in /usr/local/lib/python3.12/dist-packages (from google-cloud-storage->earthengine-api>=1.0.0->geemap) (2.7.2)\n",
            "Requirement already satisfied: google-crc32c<2.0dev,>=1.0 in /usr/local/lib/python3.12/dist-packages (from google-cloud-storage->earthengine-api>=1.0.0->geemap) (1.7.1)\n",
            "Collecting ipyvue<2,>=1.7 (from ipyvuetify->leafmap>=0.38.0->hypercoast)\n",
            "  Downloading ipyvue-1.11.3-py2.py3-none-any.whl.metadata (987 bytes)\n",
            "Collecting eval-type-backport (from maplibre->leafmap>=0.38.0->hypercoast)\n",
            "  Downloading eval_type_backport-0.2.2-py3-none-any.whl.metadata (2.2 kB)\n",
            "Requirement already satisfied: pydantic>=2.5.3 in /usr/local/lib/python3.12/dist-packages (from maplibre->leafmap>=0.38.0->hypercoast) (2.11.10)\n",
            "Collecting pystac>=1.10.0 (from pystac[validation]>=1.10.0->pystac-client->leafmap>=0.38.0->hypercoast)\n",
            "  Downloading pystac-1.14.1-py3-none-any.whl.metadata (4.7 kB)\n",
            "Requirement already satisfied: decorator in /usr/local/lib/python3.12/dist-packages (from ratelim->geocoder->geemap) (4.4.2)\n",
            "Collecting morecantile<7.0,>=5.0 (from rio-cogeo->localtileserver->hypercoast)\n",
            "  Downloading morecantile-6.2.0-py3-none-any.whl.metadata (7.3 kB)\n",
            "Collecting color-operations (from rio-tiler->localtileserver->hypercoast)\n",
            "  Downloading color_operations-0.2.0-cp312-cp312-manylinux_2_5_x86_64.manylinux1_x86_64.manylinux_2_17_x86_64.manylinux2014_x86_64.whl.metadata (6.3 kB)\n",
            "Requirement already satisfied: httpx in /usr/local/lib/python3.12/dist-packages (from rio-tiler->localtileserver->hypercoast) (0.28.1)\n",
            "Requirement already satisfied: numexpr in /usr/local/lib/python3.12/dist-packages (from rio-tiler->localtileserver->hypercoast) (2.14.1)\n",
            "Requirement already satisfied: uvicorn in /usr/local/lib/python3.12/dist-packages (from server-thread->localtileserver->hypercoast) (0.38.0)\n",
            "Collecting whitebox (from whiteboxgui->leafmap>=0.38.0->hypercoast)\n",
            "  Downloading whitebox-2.3.6-py2.py3-none-any.whl.metadata (11 kB)\n",
            "Requirement already satisfied: googleapis-common-protos<2.0.0,>=1.56.2 in /usr/local/lib/python3.12/dist-packages (from google-api-core!=2.0.*,!=2.1.*,!=2.2.*,!=2.3.0,<3.0.0,>=1.31.5->google-api-python-client>=1.12.1->earthengine-api>=1.0.0->geemap) (1.71.0)\n",
            "Requirement already satisfied: protobuf!=3.20.0,!=3.20.1,!=4.21.0,!=4.21.1,!=4.21.2,!=4.21.3,!=4.21.4,!=4.21.5,<7.0.0,>=3.19.5 in /usr/local/lib/python3.12/dist-packages (from google-api-core!=2.0.*,!=2.1.*,!=2.2.*,!=2.3.0,<3.0.0,>=1.31.5->google-api-python-client>=1.12.1->earthengine-api>=1.0.0->geemap) (5.29.5)\n",
            "Requirement already satisfied: proto-plus<2.0.0,>=1.22.3 in /usr/local/lib/python3.12/dist-packages (from google-api-core!=2.0.*,!=2.1.*,!=2.2.*,!=2.3.0,<3.0.0,>=1.31.5->google-api-python-client>=1.12.1->earthengine-api>=1.0.0->geemap) (1.26.1)\n",
            "Requirement already satisfied: debugpy>=1.0 in /usr/local/lib/python3.12/dist-packages (from ipykernel>=4.5.1->ipywidgets->ipyfilechooser>=0.6.0->geemap) (1.8.15)\n",
            "Requirement already satisfied: jupyter-client>=6.1.12 in /usr/local/lib/python3.12/dist-packages (from ipykernel>=4.5.1->ipywidgets->ipyfilechooser>=0.6.0->geemap) (7.4.9)\n",
            "Requirement already satisfied: matplotlib-inline>=0.1 in /usr/local/lib/python3.12/dist-packages (from ipykernel>=4.5.1->ipywidgets->ipyfilechooser>=0.6.0->geemap) (0.1.7)\n",
            "Requirement already satisfied: nest-asyncio in /usr/local/lib/python3.12/dist-packages (from ipykernel>=4.5.1->ipywidgets->ipyfilechooser>=0.6.0->geemap) (1.6.0)\n",
            "Requirement already satisfied: pyzmq>=17 in /usr/local/lib/python3.12/dist-packages (from ipykernel>=4.5.1->ipywidgets->ipyfilechooser>=0.6.0->geemap) (26.2.1)\n",
            "Requirement already satisfied: setuptools>=18.5 in /usr/local/lib/python3.12/dist-packages (from ipython>=4.0.0->ipywidgets->ipyfilechooser>=0.6.0->geemap) (75.2.0)\n",
            "Collecting jedi>=0.16 (from ipython>=4.0.0->ipywidgets->ipyfilechooser>=0.6.0->geemap)\n",
            "  Downloading jedi-0.19.2-py2.py3-none-any.whl.metadata (22 kB)\n",
            "Requirement already satisfied: pickleshare in /usr/local/lib/python3.12/dist-packages (from ipython>=4.0.0->ipywidgets->ipyfilechooser>=0.6.0->geemap) (0.7.5)\n",
            "Requirement already satisfied: prompt-toolkit!=3.0.0,!=3.0.1,<3.1.0,>=2.0.0 in /usr/local/lib/python3.12/dist-packages (from ipython>=4.0.0->ipywidgets->ipyfilechooser>=0.6.0->geemap) (3.0.52)\n",
            "Requirement already satisfied: pygments in /usr/local/lib/python3.12/dist-packages (from ipython>=4.0.0->ipywidgets->ipyfilechooser>=0.6.0->geemap) (2.19.2)\n",
            "Requirement already satisfied: backcall in /usr/local/lib/python3.12/dist-packages (from ipython>=4.0.0->ipywidgets->ipyfilechooser>=0.6.0->geemap) (0.2.0)\n",
            "Requirement already satisfied: pexpect>4.3 in /usr/local/lib/python3.12/dist-packages (from ipython>=4.0.0->ipywidgets->ipyfilechooser>=0.6.0->geemap) (4.9.0)\n",
            "Requirement already satisfied: pyasn1<0.7.0,>=0.6.1 in /usr/local/lib/python3.12/dist-packages (from pyasn1-modules>=0.2.1->google-auth>=1.4.1->earthengine-api>=1.0.0->geemap) (0.6.1)\n",
            "Requirement already satisfied: annotated-types>=0.6.0 in /usr/local/lib/python3.12/dist-packages (from pydantic>=2.5.3->maplibre->leafmap>=0.38.0->hypercoast) (0.7.0)\n",
            "Requirement already satisfied: pydantic-core==2.33.2 in /usr/local/lib/python3.12/dist-packages (from pydantic>=2.5.3->maplibre->leafmap>=0.38.0->hypercoast) (2.33.2)\n",
            "Requirement already satisfied: typing-inspection>=0.4.0 in /usr/local/lib/python3.12/dist-packages (from pydantic>=2.5.3->maplibre->leafmap>=0.38.0->hypercoast) (0.4.2)\n",
            "Requirement already satisfied: jsonschema-specifications>=2023.03.6 in /usr/local/lib/python3.12/dist-packages (from jsonschema->flask-restx>=1.3.0->localtileserver->hypercoast) (2025.9.1)\n",
            "Requirement already satisfied: rpds-py>=0.7.1 in /usr/local/lib/python3.12/dist-packages (from jsonschema->flask-restx>=1.3.0->localtileserver->hypercoast) (0.27.1)\n",
            "Requirement already satisfied: notebook>=4.4.1 in /usr/local/lib/python3.12/dist-packages (from widgetsnbextension~=3.6.0->ipywidgets->ipyfilechooser>=0.6.0->geemap) (6.5.7)\n",
            "Requirement already satisfied: soupsieve>1.2 in /usr/local/lib/python3.12/dist-packages (from beautifulsoup4->gdown->leafmap>=0.38.0->hypercoast) (2.8)\n",
            "Requirement already satisfied: webencodings in /usr/local/lib/python3.12/dist-packages (from bleach->panel>=1.0->hvplot->hypercoast) (0.5.1)\n",
            "Requirement already satisfied: distributed==2025.5.0 in /usr/local/lib/python3.12/dist-packages (from dask[dataframe]->dask-ee) (2025.5.0)\n",
            "Requirement already satisfied: msgpack>=1.0.2 in /usr/local/lib/python3.12/dist-packages (from distributed==2025.5.0->dask[dataframe]->dask-ee) (1.1.2)\n",
            "Requirement already satisfied: sortedcontainers>=2.0.5 in /usr/local/lib/python3.12/dist-packages (from distributed==2025.5.0->dask[dataframe]->dask-ee) (2.4.0)\n",
            "Requirement already satisfied: tblib>=1.6.0 in /usr/local/lib/python3.12/dist-packages (from distributed==2025.5.0->dask[dataframe]->dask-ee) (3.1.0)\n",
            "Requirement already satisfied: zict>=3.0.0 in /usr/local/lib/python3.12/dist-packages (from distributed==2025.5.0->dask[dataframe]->dask-ee) (3.0.0)\n",
            "Requirement already satisfied: anyio in /usr/local/lib/python3.12/dist-packages (from httpx->rio-tiler->localtileserver->hypercoast) (4.11.0)\n",
            "Requirement already satisfied: httpcore==1.* in /usr/local/lib/python3.12/dist-packages (from httpx->rio-tiler->localtileserver->hypercoast) (1.0.9)\n",
            "Requirement already satisfied: h11>=0.16 in /usr/local/lib/python3.12/dist-packages (from httpcore==1.*->httpx->rio-tiler->localtileserver->hypercoast) (0.16.0)\n",
            "Requirement already satisfied: uc-micro-py in /usr/local/lib/python3.12/dist-packages (from linkify-it-py->panel>=1.0->hvplot->hypercoast) (1.0.3)\n",
            "Requirement already satisfied: mdurl~=0.1 in /usr/local/lib/python3.12/dist-packages (from markdown-it-py->panel>=1.0->hvplot->hypercoast) (0.1.2)\n",
            "Requirement already satisfied: PySocks!=1.5.7,>=1.5.6 in /usr/local/lib/python3.12/dist-packages (from requests[socks]->gdown->leafmap>=0.38.0->hypercoast) (1.7.1)\n",
            "Requirement already satisfied: parso<0.9.0,>=0.8.4 in /usr/local/lib/python3.12/dist-packages (from jedi>=0.16->ipython>=4.0.0->ipywidgets->ipyfilechooser>=0.6.0->geemap) (0.8.5)\n",
            "Requirement already satisfied: entrypoints in /usr/local/lib/python3.12/dist-packages (from jupyter-client>=6.1.12->ipykernel>=4.5.1->ipywidgets->ipyfilechooser>=0.6.0->geemap) (0.4)\n",
            "Requirement already satisfied: jupyter-core>=4.9.2 in /usr/local/lib/python3.12/dist-packages (from jupyter-client>=6.1.12->ipykernel>=4.5.1->ipywidgets->ipyfilechooser>=0.6.0->geemap) (5.9.1)\n",
            "Requirement already satisfied: argon2-cffi in /usr/local/lib/python3.12/dist-packages (from notebook>=4.4.1->widgetsnbextension~=3.6.0->ipywidgets->ipyfilechooser>=0.6.0->geemap) (25.1.0)\n",
            "Requirement already satisfied: nbformat in /usr/local/lib/python3.12/dist-packages (from notebook>=4.4.1->widgetsnbextension~=3.6.0->ipywidgets->ipyfilechooser>=0.6.0->geemap) (5.10.4)\n",
            "Requirement already satisfied: nbconvert>=5 in /usr/local/lib/python3.12/dist-packages (from notebook>=4.4.1->widgetsnbextension~=3.6.0->ipywidgets->ipyfilechooser>=0.6.0->geemap) (7.16.6)\n",
            "Requirement already satisfied: Send2Trash>=1.8.0 in /usr/local/lib/python3.12/dist-packages (from notebook>=4.4.1->widgetsnbextension~=3.6.0->ipywidgets->ipyfilechooser>=0.6.0->geemap) (1.8.3)\n",
            "Requirement already satisfied: terminado>=0.8.3 in /usr/local/lib/python3.12/dist-packages (from notebook>=4.4.1->widgetsnbextension~=3.6.0->ipywidgets->ipyfilechooser>=0.6.0->geemap) (0.18.1)\n",
            "Requirement already satisfied: prometheus-client in /usr/local/lib/python3.12/dist-packages (from notebook>=4.4.1->widgetsnbextension~=3.6.0->ipywidgets->ipyfilechooser>=0.6.0->geemap) (0.23.1)\n",
            "Requirement already satisfied: nbclassic>=0.4.7 in /usr/local/lib/python3.12/dist-packages (from notebook>=4.4.1->widgetsnbextension~=3.6.0->ipywidgets->ipyfilechooser>=0.6.0->geemap) (1.3.3)\n",
            "Requirement already satisfied: ptyprocess>=0.5 in /usr/local/lib/python3.12/dist-packages (from pexpect>4.3->ipython>=4.0.0->ipywidgets->ipyfilechooser>=0.6.0->geemap) (0.7.0)\n",
            "Requirement already satisfied: wcwidth in /usr/local/lib/python3.12/dist-packages (from prompt-toolkit!=3.0.0,!=3.0.1,<3.1.0,>=2.0.0->ipython>=4.0.0->ipywidgets->ipyfilechooser>=0.6.0->geemap) (0.2.14)\n",
            "Requirement already satisfied: sniffio>=1.1 in /usr/local/lib/python3.12/dist-packages (from anyio->httpx->rio-tiler->localtileserver->hypercoast) (1.3.1)\n",
            "Requirement already satisfied: notebook-shim>=0.2.3 in /usr/local/lib/python3.12/dist-packages (from nbclassic>=0.4.7->notebook>=4.4.1->widgetsnbextension~=3.6.0->ipywidgets->ipyfilechooser>=0.6.0->geemap) (0.2.4)\n",
            "Requirement already satisfied: defusedxml in /usr/local/lib/python3.12/dist-packages (from nbconvert>=5->notebook>=4.4.1->widgetsnbextension~=3.6.0->ipywidgets->ipyfilechooser>=0.6.0->geemap) (0.7.1)\n",
            "Requirement already satisfied: jupyterlab-pygments in /usr/local/lib/python3.12/dist-packages (from nbconvert>=5->notebook>=4.4.1->widgetsnbextension~=3.6.0->ipywidgets->ipyfilechooser>=0.6.0->geemap) (0.3.0)\n",
            "Requirement already satisfied: mistune<4,>=2.0.3 in /usr/local/lib/python3.12/dist-packages (from nbconvert>=5->notebook>=4.4.1->widgetsnbextension~=3.6.0->ipywidgets->ipyfilechooser>=0.6.0->geemap) (3.1.4)\n",
            "Requirement already satisfied: nbclient>=0.5.0 in /usr/local/lib/python3.12/dist-packages (from nbconvert>=5->notebook>=4.4.1->widgetsnbextension~=3.6.0->ipywidgets->ipyfilechooser>=0.6.0->geemap) (0.10.2)\n",
            "Requirement already satisfied: pandocfilters>=1.4.1 in /usr/local/lib/python3.12/dist-packages (from nbconvert>=5->notebook>=4.4.1->widgetsnbextension~=3.6.0->ipywidgets->ipyfilechooser>=0.6.0->geemap) (1.5.1)\n",
            "Requirement already satisfied: fastjsonschema>=2.15 in /usr/local/lib/python3.12/dist-packages (from nbformat->notebook>=4.4.1->widgetsnbextension~=3.6.0->ipywidgets->ipyfilechooser>=0.6.0->geemap) (2.21.2)\n",
            "Requirement already satisfied: argon2-cffi-bindings in /usr/local/lib/python3.12/dist-packages (from argon2-cffi->notebook>=4.4.1->widgetsnbextension~=3.6.0->ipywidgets->ipyfilechooser>=0.6.0->geemap) (25.1.0)\n",
            "Requirement already satisfied: tinycss2<1.5,>=1.1.0 in /usr/local/lib/python3.12/dist-packages (from bleach[css]!=5.0.0->nbconvert>=5->notebook>=4.4.1->widgetsnbextension~=3.6.0->ipywidgets->ipyfilechooser>=0.6.0->geemap) (1.4.0)\n",
            "Requirement already satisfied: jupyter-server<3,>=1.8 in /usr/local/lib/python3.12/dist-packages (from notebook-shim>=0.2.3->nbclassic>=0.4.7->notebook>=4.4.1->widgetsnbextension~=3.6.0->ipywidgets->ipyfilechooser>=0.6.0->geemap) (2.14.0)\n",
            "Requirement already satisfied: cffi>=1.0.1 in /usr/local/lib/python3.12/dist-packages (from argon2-cffi-bindings->argon2-cffi->notebook>=4.4.1->widgetsnbextension~=3.6.0->ipywidgets->ipyfilechooser>=0.6.0->geemap) (2.0.0)\n",
            "Requirement already satisfied: pycparser in /usr/local/lib/python3.12/dist-packages (from cffi>=1.0.1->argon2-cffi-bindings->argon2-cffi->notebook>=4.4.1->widgetsnbextension~=3.6.0->ipywidgets->ipyfilechooser>=0.6.0->geemap) (2.23)\n",
            "Requirement already satisfied: jupyter-events>=0.9.0 in /usr/local/lib/python3.12/dist-packages (from jupyter-server<3,>=1.8->notebook-shim>=0.2.3->nbclassic>=0.4.7->notebook>=4.4.1->widgetsnbextension~=3.6.0->ipywidgets->ipyfilechooser>=0.6.0->geemap) (0.12.0)\n",
            "Requirement already satisfied: jupyter-server-terminals>=0.4.4 in /usr/local/lib/python3.12/dist-packages (from jupyter-server<3,>=1.8->notebook-shim>=0.2.3->nbclassic>=0.4.7->notebook>=4.4.1->widgetsnbextension~=3.6.0->ipywidgets->ipyfilechooser>=0.6.0->geemap) (0.5.3)\n",
            "Requirement already satisfied: overrides>=5.0 in /usr/local/lib/python3.12/dist-packages (from jupyter-server<3,>=1.8->notebook-shim>=0.2.3->nbclassic>=0.4.7->notebook>=4.4.1->widgetsnbextension~=3.6.0->ipywidgets->ipyfilechooser>=0.6.0->geemap) (7.7.0)\n",
            "Requirement already satisfied: websocket-client>=1.7 in /usr/local/lib/python3.12/dist-packages (from jupyter-server<3,>=1.8->notebook-shim>=0.2.3->nbclassic>=0.4.7->notebook>=4.4.1->widgetsnbextension~=3.6.0->ipywidgets->ipyfilechooser>=0.6.0->geemap) (1.9.0)\n",
            "Requirement already satisfied: python-json-logger>=2.0.4 in /usr/local/lib/python3.12/dist-packages (from jupyter-events>=0.9.0->jupyter-server<3,>=1.8->notebook-shim>=0.2.3->nbclassic>=0.4.7->notebook>=4.4.1->widgetsnbextension~=3.6.0->ipywidgets->ipyfilechooser>=0.6.0->geemap) (4.0.0)\n",
            "Requirement already satisfied: rfc3339-validator in /usr/local/lib/python3.12/dist-packages (from jupyter-events>=0.9.0->jupyter-server<3,>=1.8->notebook-shim>=0.2.3->nbclassic>=0.4.7->notebook>=4.4.1->widgetsnbextension~=3.6.0->ipywidgets->ipyfilechooser>=0.6.0->geemap) (0.1.4)\n",
            "Requirement already satisfied: rfc3986-validator>=0.1.1 in /usr/local/lib/python3.12/dist-packages (from jupyter-events>=0.9.0->jupyter-server<3,>=1.8->notebook-shim>=0.2.3->nbclassic>=0.4.7->notebook>=4.4.1->widgetsnbextension~=3.6.0->ipywidgets->ipyfilechooser>=0.6.0->geemap) (0.1.1)\n",
            "Requirement already satisfied: fqdn in /usr/local/lib/python3.12/dist-packages (from jsonschema[format-nongpl]>=4.18.0->jupyter-events>=0.9.0->jupyter-server<3,>=1.8->notebook-shim>=0.2.3->nbclassic>=0.4.7->notebook>=4.4.1->widgetsnbextension~=3.6.0->ipywidgets->ipyfilechooser>=0.6.0->geemap) (1.5.1)\n",
            "Requirement already satisfied: isoduration in /usr/local/lib/python3.12/dist-packages (from jsonschema[format-nongpl]>=4.18.0->jupyter-events>=0.9.0->jupyter-server<3,>=1.8->notebook-shim>=0.2.3->nbclassic>=0.4.7->notebook>=4.4.1->widgetsnbextension~=3.6.0->ipywidgets->ipyfilechooser>=0.6.0->geemap) (20.11.0)\n",
            "Requirement already satisfied: jsonpointer>1.13 in /usr/local/lib/python3.12/dist-packages (from jsonschema[format-nongpl]>=4.18.0->jupyter-events>=0.9.0->jupyter-server<3,>=1.8->notebook-shim>=0.2.3->nbclassic>=0.4.7->notebook>=4.4.1->widgetsnbextension~=3.6.0->ipywidgets->ipyfilechooser>=0.6.0->geemap) (3.0.0)\n",
            "Requirement already satisfied: rfc3987-syntax>=1.1.0 in /usr/local/lib/python3.12/dist-packages (from jsonschema[format-nongpl]>=4.18.0->jupyter-events>=0.9.0->jupyter-server<3,>=1.8->notebook-shim>=0.2.3->nbclassic>=0.4.7->notebook>=4.4.1->widgetsnbextension~=3.6.0->ipywidgets->ipyfilechooser>=0.6.0->geemap) (1.1.0)\n",
            "Requirement already satisfied: uri-template in /usr/local/lib/python3.12/dist-packages (from jsonschema[format-nongpl]>=4.18.0->jupyter-events>=0.9.0->jupyter-server<3,>=1.8->notebook-shim>=0.2.3->nbclassic>=0.4.7->notebook>=4.4.1->widgetsnbextension~=3.6.0->ipywidgets->ipyfilechooser>=0.6.0->geemap) (1.3.0)\n",
            "Requirement already satisfied: webcolors>=24.6.0 in /usr/local/lib/python3.12/dist-packages (from jsonschema[format-nongpl]>=4.18.0->jupyter-events>=0.9.0->jupyter-server<3,>=1.8->notebook-shim>=0.2.3->nbclassic>=0.4.7->notebook>=4.4.1->widgetsnbextension~=3.6.0->ipywidgets->ipyfilechooser>=0.6.0->geemap) (24.11.1)\n",
            "Requirement already satisfied: lark>=1.2.2 in /usr/local/lib/python3.12/dist-packages (from rfc3987-syntax>=1.1.0->jsonschema[format-nongpl]>=4.18.0->jupyter-events>=0.9.0->jupyter-server<3,>=1.8->notebook-shim>=0.2.3->nbclassic>=0.4.7->notebook>=4.4.1->widgetsnbextension~=3.6.0->ipywidgets->ipyfilechooser>=0.6.0->geemap) (1.3.0)\n",
            "Requirement already satisfied: arrow>=0.15.0 in /usr/local/lib/python3.12/dist-packages (from isoduration->jsonschema[format-nongpl]>=4.18.0->jupyter-events>=0.9.0->jupyter-server<3,>=1.8->notebook-shim>=0.2.3->nbclassic>=0.4.7->notebook>=4.4.1->widgetsnbextension~=3.6.0->ipywidgets->ipyfilechooser>=0.6.0->geemap) (1.4.0)\n",
            "Downloading dask_ee-0.0.4-py3-none-any.whl (10 kB)\n",
            "Downloading pydeck-0.9.1-py2.py3-none-any.whl (6.9 MB)\n",
            "\u001b[2K   \u001b[90m━━━━━━━━━━━━━━━━━━━━━━━━━━━━━━━━━━━━━━━━\u001b[0m \u001b[32m6.9/6.9 MB\u001b[0m \u001b[31m52.3 MB/s\u001b[0m eta \u001b[36m0:00:00\u001b[0m\n",
            "\u001b[?25hDownloading xee-0.0.22-py3-none-any.whl (31 kB)\n",
            "Downloading hypercoast-0.15.0-py2.py3-none-any.whl (93 kB)\n",
            "\u001b[2K   \u001b[90m━━━━━━━━━━━━━━━━━━━━━━━━━━━━━━━━━━━━━━━━\u001b[0m \u001b[32m93.6/93.6 kB\u001b[0m \u001b[31m6.0 MB/s\u001b[0m eta \u001b[36m0:00:00\u001b[0m\n",
            "\u001b[?25hDownloading pyvista-0.46.3-py3-none-any.whl (2.4 MB)\n",
            "\u001b[2K   \u001b[90m━━━━━━━━━━━━━━━━━━━━━━━━━━━━━━━━━━━━━━━━\u001b[0m \u001b[32m2.4/2.4 MB\u001b[0m \u001b[31m63.1 MB/s\u001b[0m eta \u001b[36m0:00:00\u001b[0m\n",
            "\u001b[?25hDownloading mapclassify-2.10.0-py3-none-any.whl (882 kB)\n",
            "\u001b[2K   \u001b[90m━━━━━━━━━━━━━━━━━━━━━━━━━━━━━━━━━━━━━━━━\u001b[0m \u001b[32m882.2/882.2 kB\u001b[0m \u001b[31m45.9 MB/s\u001b[0m eta \u001b[36m0:00:00\u001b[0m\n",
            "\u001b[?25hDownloading leafmap-0.55.0-py2.py3-none-any.whl (618 kB)\n",
            "\u001b[2K   \u001b[90m━━━━━━━━━━━━━━━━━━━━━━━━━━━━━━━━━━━━━━━━\u001b[0m \u001b[32m618.4/618.4 kB\u001b[0m \u001b[31m34.6 MB/s\u001b[0m eta \u001b[36m0:00:00\u001b[0m\n",
            "\u001b[?25hDownloading vtk-9.5.2-cp312-cp312-manylinux2014_x86_64.manylinux_2_17_x86_64.whl (112.3 MB)\n",
            "\u001b[2K   \u001b[90m━━━━━━━━━━━━━━━━━━━━━━━━━━━━━━━━━━━━━━━━\u001b[0m \u001b[32m112.3/112.3 MB\u001b[0m \u001b[31m7.7 MB/s\u001b[0m eta \u001b[36m0:00:00\u001b[0m\n",
            "\u001b[?25hDownloading affine-2.4.0-py3-none-any.whl (15 kB)\n",
            "Downloading earthaccess-0.15.1-py3-none-any.whl (70 kB)\n",
            "\u001b[2K   \u001b[90m━━━━━━━━━━━━━━━━━━━━━━━━━━━━━━━━━━━━━━━━\u001b[0m \u001b[32m70.5/70.5 kB\u001b[0m \u001b[31m2.9 MB/s\u001b[0m eta \u001b[36m0:00:00\u001b[0m\n",
            "\u001b[?25hDownloading s3fs-2025.9.0-py3-none-any.whl (30 kB)\n",
            "Downloading fsspec-2025.9.0-py3-none-any.whl (199 kB)\n",
            "\u001b[2K   \u001b[90m━━━━━━━━━━━━━━━━━━━━━━━━━━━━━━━━━━━━━━━━\u001b[0m \u001b[32m199.3/199.3 kB\u001b[0m \u001b[31m14.4 MB/s\u001b[0m eta \u001b[36m0:00:00\u001b[0m\n",
            "\u001b[?25hDownloading hvplot-0.12.1-py3-none-any.whl (175 kB)\n",
            "\u001b[2K   \u001b[90m━━━━━━━━━━━━━━━━━━━━━━━━━━━━━━━━━━━━━━━━\u001b[0m \u001b[32m175.5/175.5 kB\u001b[0m \u001b[31m9.2 MB/s\u001b[0m eta \u001b[36m0:00:00\u001b[0m\n",
            "\u001b[?25hDownloading localtileserver-0.10.6-py3-none-any.whl (17.1 MB)\n",
            "\u001b[2K   \u001b[90m━━━━━━━━━━━━━━━━━━━━━━━━━━━━━━━━━━━━━━━━\u001b[0m \u001b[32m17.1/17.1 MB\u001b[0m \u001b[31m70.3 MB/s\u001b[0m eta \u001b[36m0:00:00\u001b[0m\n",
            "\u001b[?25hDownloading netcdf4-1.7.3-cp311-abi3-manylinux_2_27_x86_64.manylinux_2_28_x86_64.whl (9.5 MB)\n",
            "\u001b[2K   \u001b[90m━━━━━━━━━━━━━━━━━━━━━━━━━━━━━━━━━━━━━━━━\u001b[0m \u001b[32m9.5/9.5 MB\u001b[0m \u001b[31m78.9 MB/s\u001b[0m eta \u001b[36m0:00:00\u001b[0m\n",
            "\u001b[?25hDownloading rioxarray-0.20.0-py3-none-any.whl (62 kB)\n",
            "\u001b[2K   \u001b[90m━━━━━━━━━━━━━━━━━━━━━━━━━━━━━━━━━━━━━━━━\u001b[0m \u001b[32m62.7/62.7 kB\u001b[0m \u001b[31m3.2 MB/s\u001b[0m eta \u001b[36m0:00:00\u001b[0m\n",
            "\u001b[?25hDownloading aiobotocore-2.25.0-py3-none-any.whl (86 kB)\n",
            "\u001b[2K   \u001b[90m━━━━━━━━━━━━━━━━━━━━━━━━━━━━━━━━━━━━━━━━\u001b[0m \u001b[32m86.0/86.0 kB\u001b[0m \u001b[31m4.9 MB/s\u001b[0m eta \u001b[36m0:00:00\u001b[0m\n",
            "\u001b[?25hDownloading duckdb-1.4.1-cp312-cp312-manylinux_2_27_x86_64.manylinux_2_28_x86_64.whl (20.5 MB)\n",
            "\u001b[2K   \u001b[90m━━━━━━━━━━━━━━━━━━━━━━━━━━━━━━━━━━━━━━━━\u001b[0m \u001b[32m20.5/20.5 MB\u001b[0m \u001b[31m87.6 MB/s\u001b[0m eta \u001b[36m0:00:00\u001b[0m\n",
            "\u001b[?25hDownloading flask_restx-1.3.2-py2.py3-none-any.whl (2.8 MB)\n",
            "\u001b[2K   \u001b[90m━━━━━━━━━━━━━━━━━━━━━━━━━━━━━━━━━━━━━━━━\u001b[0m \u001b[32m2.8/2.8 MB\u001b[0m \u001b[31m67.3 MB/s\u001b[0m eta \u001b[36m0:00:00\u001b[0m\n",
            "\u001b[?25hDownloading multimethod-2.0-py3-none-any.whl (9.8 kB)\n",
            "Downloading pqdm-0.2.0-py2.py3-none-any.whl (6.8 kB)\n",
            "Downloading python_cmr-0.13.0-py3-none-any.whl (14 kB)\n",
            "Downloading rasterio-1.4.3-cp312-cp312-manylinux_2_17_x86_64.manylinux2014_x86_64.whl (22.3 MB)\n",
            "\u001b[2K   \u001b[90m━━━━━━━━━━━━━━━━━━━━━━━━━━━━━━━━━━━━━━━━\u001b[0m \u001b[32m22.3/22.3 MB\u001b[0m \u001b[31m19.1 MB/s\u001b[0m eta \u001b[36m0:00:00\u001b[0m\n",
            "\u001b[?25hDownloading tenacity-9.1.2-py3-none-any.whl (28 kB)\n",
            "Downloading tinynetrc-1.3.1-py2.py3-none-any.whl (3.9 kB)\n",
            "Downloading cftime-1.6.5-cp312-cp312-manylinux2014_x86_64.manylinux_2_17_x86_64.whl (1.6 MB)\n",
            "\u001b[2K   \u001b[90m━━━━━━━━━━━━━━━━━━━━━━━━━━━━━━━━━━━━━━━━\u001b[0m \u001b[32m1.6/1.6 MB\u001b[0m \u001b[31m70.7 MB/s\u001b[0m eta \u001b[36m0:00:00\u001b[0m\n",
            "\u001b[?25hDownloading Flask_Caching-2.3.1-py3-none-any.whl (28 kB)\n",
            "Downloading flask_cors-6.0.1-py3-none-any.whl (13 kB)\n",
            "Downloading geojson-3.2.0-py3-none-any.whl (15 kB)\n",
            "Downloading ipyvuetify-1.11.3-py2.py3-none-any.whl (6.3 MB)\n",
            "\u001b[2K   \u001b[90m━━━━━━━━━━━━━━━━━━━━━━━━━━━━━━━━━━━━━━━━\u001b[0m \u001b[32m6.3/6.3 MB\u001b[0m \u001b[31m96.7 MB/s\u001b[0m eta \u001b[36m0:00:00\u001b[0m\n",
            "\u001b[?25hDownloading maplibre-0.3.5-py3-none-any.whl (1.4 MB)\n",
            "\u001b[2K   \u001b[90m━━━━━━━━━━━━━━━━━━━━━━━━━━━━━━━━━━━━━━━━\u001b[0m \u001b[32m1.4/1.4 MB\u001b[0m \u001b[31m59.3 MB/s\u001b[0m eta \u001b[36m0:00:00\u001b[0m\n",
            "\u001b[?25hDownloading pystac_client-0.9.0-py3-none-any.whl (41 kB)\n",
            "\u001b[2K   \u001b[90m━━━━━━━━━━━━━━━━━━━━━━━━━━━━━━━━━━━━━━━━\u001b[0m \u001b[32m41.8/41.8 kB\u001b[0m \u001b[31m2.3 MB/s\u001b[0m eta \u001b[36m0:00:00\u001b[0m\n",
            "\u001b[?25hDownloading rio_cogeo-5.4.2-py3-none-any.whl (21 kB)\n",
            "Downloading rio_tiler-7.9.2-py3-none-any.whl (269 kB)\n",
            "\u001b[2K   \u001b[90m━━━━━━━━━━━━━━━━━━━━━━━━━━━━━━━━━━━━━━━━\u001b[0m \u001b[32m270.0/270.0 kB\u001b[0m \u001b[31m15.4 MB/s\u001b[0m eta \u001b[36m0:00:00\u001b[0m\n",
            "\u001b[?25hDownloading server_thread-0.3.0-py3-none-any.whl (6.6 kB)\n",
            "Downloading whiteboxgui-2.3.0-py2.py3-none-any.whl (108 kB)\n",
            "\u001b[2K   \u001b[90m━━━━━━━━━━━━━━━━━━━━━━━━━━━━━━━━━━━━━━━━\u001b[0m \u001b[32m108.6/108.6 kB\u001b[0m \u001b[31m6.7 MB/s\u001b[0m eta \u001b[36m0:00:00\u001b[0m\n",
            "\u001b[?25hDownloading aioitertools-0.12.0-py3-none-any.whl (24 kB)\n",
            "Downloading aniso8601-10.0.1-py2.py3-none-any.whl (52 kB)\n",
            "\u001b[2K   \u001b[90m━━━━━━━━━━━━━━━━━━━━━━━━━━━━━━━━━━━━━━━━\u001b[0m \u001b[32m52.8/52.8 kB\u001b[0m \u001b[31m2.7 MB/s\u001b[0m eta \u001b[36m0:00:00\u001b[0m\n",
            "\u001b[?25hDownloading botocore-1.40.49-py3-none-any.whl (14.1 MB)\n",
            "\u001b[2K   \u001b[90m━━━━━━━━━━━━━━━━━━━━━━━━━━━━━━━━━━━━━━━━\u001b[0m \u001b[32m14.1/14.1 MB\u001b[0m \u001b[31m101.6 MB/s\u001b[0m eta \u001b[36m0:00:00\u001b[0m\n",
            "\u001b[?25hDownloading cachelib-0.13.0-py3-none-any.whl (20 kB)\n",
            "Downloading cligj-0.7.2-py3-none-any.whl (7.1 kB)\n",
            "Downloading ipyvue-1.11.3-py2.py3-none-any.whl (2.7 MB)\n",
            "\u001b[2K   \u001b[90m━━━━━━━━━━━━━━━━━━━━━━━━━━━━━━━━━━━━━━━━\u001b[0m \u001b[32m2.7/2.7 MB\u001b[0m \u001b[31m81.5 MB/s\u001b[0m eta \u001b[36m0:00:00\u001b[0m\n",
            "\u001b[?25hDownloading jmespath-1.0.1-py3-none-any.whl (20 kB)\n",
            "Downloading lz4-4.4.4-cp312-cp312-manylinux_2_17_x86_64.manylinux2014_x86_64.whl (1.3 MB)\n",
            "\u001b[2K   \u001b[90m━━━━━━━━━━━━━━━━━━━━━━━━━━━━━━━━━━━━━━━━\u001b[0m \u001b[32m1.3/1.3 MB\u001b[0m \u001b[31m60.4 MB/s\u001b[0m eta \u001b[36m0:00:00\u001b[0m\n",
            "\u001b[?25hDownloading morecantile-6.2.0-py3-none-any.whl (49 kB)\n",
            "\u001b[2K   \u001b[90m━━━━━━━━━━━━━━━━━━━━━━━━━━━━━━━━━━━━━━━━\u001b[0m \u001b[32m49.5/49.5 kB\u001b[0m \u001b[31m2.3 MB/s\u001b[0m eta \u001b[36m0:00:00\u001b[0m\n",
            "\u001b[?25hDownloading pystac-1.14.1-py3-none-any.whl (207 kB)\n",
            "\u001b[2K   \u001b[90m━━━━━━━━━━━━━━━━━━━━━━━━━━━━━━━━━━━━━━━━\u001b[0m \u001b[32m207.7/207.7 kB\u001b[0m \u001b[31m12.3 MB/s\u001b[0m eta \u001b[36m0:00:00\u001b[0m\n",
            "\u001b[?25hDownloading wrapt-1.17.3-cp312-cp312-manylinux1_x86_64.manylinux_2_28_x86_64.manylinux_2_5_x86_64.whl (88 kB)\n",
            "\u001b[2K   \u001b[90m━━━━━━━━━━━━━━━━━━━━━━━━━━━━━━━━━━━━━━━━\u001b[0m \u001b[32m88.0/88.0 kB\u001b[0m \u001b[31m4.8 MB/s\u001b[0m eta \u001b[36m0:00:00\u001b[0m\n",
            "\u001b[?25hDownloading bounded_pool_executor-0.0.3-py3-none-any.whl (3.4 kB)\n",
            "Downloading click_plugins-1.1.1.2-py2.py3-none-any.whl (11 kB)\n",
            "Downloading color_operations-0.2.0-cp312-cp312-manylinux_2_5_x86_64.manylinux1_x86_64.manylinux_2_17_x86_64.manylinux2014_x86_64.whl (204 kB)\n",
            "\u001b[2K   \u001b[90m━━━━━━━━━━━━━━━━━━━━━━━━━━━━━━━━━━━━━━━━\u001b[0m \u001b[32m204.3/204.3 kB\u001b[0m \u001b[31m10.4 MB/s\u001b[0m eta \u001b[36m0:00:00\u001b[0m\n",
            "\u001b[?25hDownloading eval_type_backport-0.2.2-py3-none-any.whl (5.8 kB)\n",
            "Downloading whitebox-2.3.6-py2.py3-none-any.whl (74 kB)\n",
            "\u001b[2K   \u001b[90m━━━━━━━━━━━━━━━━━━━━━━━━━━━━━━━━━━━━━━━━\u001b[0m \u001b[32m74.0/74.0 kB\u001b[0m \u001b[31m2.8 MB/s\u001b[0m eta \u001b[36m0:00:00\u001b[0m\n",
            "\u001b[?25hDownloading jedi-0.19.2-py2.py3-none-any.whl (1.6 MB)\n",
            "\u001b[2K   \u001b[90m━━━━━━━━━━━━━━━━━━━━━━━━━━━━━━━━━━━━━━━━\u001b[0m \u001b[32m1.6/1.6 MB\u001b[0m \u001b[31m63.7 MB/s\u001b[0m eta \u001b[36m0:00:00\u001b[0m\n",
            "\u001b[?25hInstalling collected packages: tinynetrc, bounded-pool-executor, aniso8601, wrapt, whitebox, tenacity, pqdm, multimethod, lz4, jmespath, jedi, geojson, fsspec, eval-type-backport, duckdb, color-operations, cligj, click-plugins, cftime, cachelib, aioitertools, affine, server-thread, rasterio, python-cmr, pystac, pydeck, netcdf4, botocore, vtk, morecantile, maplibre, mapclassify, flask-cors, Flask-Caching, aiobotocore, s3fs, rioxarray, rio-tiler, rio-cogeo, pyvista, flask-restx, pystac-client, localtileserver, earthaccess, hvplot, xee, dask-ee, ipyvue, whiteboxgui, ipyvuetify, leafmap, hypercoast\n",
            "  Attempting uninstall: wrapt\n",
            "    Found existing installation: wrapt 2.0.0\n",
            "    Uninstalling wrapt-2.0.0:\n",
            "      Successfully uninstalled wrapt-2.0.0\n",
            "  Attempting uninstall: tenacity\n",
            "    Found existing installation: tenacity 8.5.0\n",
            "    Uninstalling tenacity-8.5.0:\n",
            "      Successfully uninstalled tenacity-8.5.0\n",
            "  Attempting uninstall: fsspec\n",
            "    Found existing installation: fsspec 2025.3.0\n",
            "    Uninstalling fsspec-2025.3.0:\n",
            "      Successfully uninstalled fsspec-2025.3.0\n",
            "  Attempting uninstall: duckdb\n",
            "    Found existing installation: duckdb 1.3.2\n",
            "    Uninstalling duckdb-1.3.2:\n",
            "      Successfully uninstalled duckdb-1.3.2\n"
          ]
        }
      ],
      "source": [
        "%pip install geemap geopandas dask-ee pydeck xee hypercoast pyvista mapclassify"
      ]
    },
    {
      "cell_type": "markdown",
      "metadata": {
        "id": "cgIJI0mw4U6M"
      },
      "source": [
        "## Import libraries"
      ]
    },
    {
      "cell_type": "code",
      "execution_count": null,
      "metadata": {
        "id": "98RvuE464U6M"
      },
      "outputs": [],
      "source": [
        "import ee\n",
        "import geemap"
      ]
    },
    {
      "cell_type": "code",
      "execution_count": null,
      "metadata": {
        "id": "uE7GnkZc77Pj"
      },
      "outputs": [],
      "source": [
        "def in_colab_shell():\n",
        "    \"\"\"Tests if the code is being executed within Google Colab.\"\"\"\n",
        "    import sys\n",
        "\n",
        "    if \"google.colab\" in sys.modules:\n",
        "        return True\n",
        "    else:\n",
        "        return False"
      ]
    },
    {
      "cell_type": "markdown",
      "metadata": {
        "id": "o2Z9FS_64U6M"
      },
      "source": [
        "## Authenticate Earth Engine"
      ]
    },
    {
      "cell_type": "code",
      "execution_count": null,
      "metadata": {
        "id": "WE_FOiaL4U6N"
      },
      "outputs": [],
      "source": [
        "EE_PROJECT_ID = \"YOUR-PROJECT-ID\"  # Change the project ID to your own"
      ]
    },
    {
      "cell_type": "code",
      "execution_count": null,
      "metadata": {
        "id": "Aqe8C1514U6N"
      },
      "outputs": [],
      "source": [
        "ee.Authenticate()\n",
        "ee.Initialize(project=EE_PROJECT_ID)"
      ]
    },
    {
      "cell_type": "markdown",
      "metadata": {
        "id": "VvM31zPD4U6O"
      },
      "source": [
        "## To Pandas DataFrame\n",
        "\n",
        "We can convert an Earth Engine FeatureCollection to a Pandas DataFrame. First, let's add an `ee.Image` and a `ee.FeatureCollection` to the map."
      ]
    },
    {
      "cell_type": "code",
      "execution_count": null,
      "metadata": {
        "id": "MLFLpWLl4U6O"
      },
      "outputs": [],
      "source": [
        "m = geemap.Map(center=[40, -100], zoom=4)\n",
        "dem = ee.Image(\"USGS/SRTMGL1_003\")\n",
        "dem_vis = {\n",
        "    \"min\": 0,\n",
        "    \"max\": 4000,\n",
        "    \"palette\": [\"006633\", \"E5FFCC\", \"662A00\", \"D8D8D8\", \"F5F5F5\"],\n",
        "}\n",
        "m.add_layer(dem, dem_vis, \"SRTM DEM\", True, 0.6)\n",
        "states = ee.FeatureCollection(\"TIGER/2018/States\").filterBounds(\n",
        "    ee.Geometry.BBox(-127, 23, -66, 50)\n",
        ")\n",
        "style = {\"fillColor\": \"00000000\"}\n",
        "m.add_layer(states.style(**style), {}, \"US States\")\n",
        "m"
      ]
    },
    {
      "cell_type": "markdown",
      "metadata": {
        "id": "XtRAeHMq4U6O"
      },
      "source": [
        "We can use zone statistics to calculate the mean elevation for each US state. The result can be returned as an `ee.FeatureCollection`."
      ]
    },
    {
      "cell_type": "code",
      "execution_count": null,
      "metadata": {
        "id": "zhbsVnwU4U6O"
      },
      "outputs": [],
      "source": [
        "dem_stats = geemap.zonal_stats(\n",
        "    dem, states, stats_type=\"MEAN\", scale=1000, return_fc=True, verbose=False\n",
        ")"
      ]
    },
    {
      "cell_type": "markdown",
      "metadata": {
        "id": "XRBWt64l4U6O"
      },
      "source": [
        "Next, we can convert the `ee.FeatureCollection` to a Pandas DataFrame using the `ee_to_df()` function, which uses `ee.data.computeFeatures()` under the hood."
      ]
    },
    {
      "cell_type": "code",
      "execution_count": null,
      "metadata": {
        "id": "gsFiWm0i4U6O"
      },
      "outputs": [],
      "source": [
        "dem_df = geemap.ee_to_df(dem_stats)\n",
        "dem_df.sort_values(\"mean\", ascending=False).head()"
      ]
    },
    {
      "cell_type": "markdown",
      "metadata": {
        "id": "PkxNVQz84U6P"
      },
      "source": [
        "Create a bar chart to show the mean elevation for each state."
      ]
    },
    {
      "cell_type": "code",
      "execution_count": null,
      "metadata": {
        "id": "cpvrVoKV4U6P"
      },
      "outputs": [],
      "source": [
        "geemap.bar_chart(\n",
        "    dem_df,\n",
        "    x=\"NAME\",\n",
        "    y=\"mean\",\n",
        "    x_label=\"State\",\n",
        "    y_label=\"Mean Elevation (m)\",\n",
        "    title=\"Average Elevation by State\",\n",
        ")"
      ]
    },
    {
      "cell_type": "markdown",
      "metadata": {
        "id": "BM-9KoQe4U6P"
      },
      "source": [
        "The `zonal_stats()` function above is a simple example of how to calculate zonal statistics based a vector data and a continuous raster image. For categorical raster images, we can use the `zonal_stats_by_group()` to calculate the total area or percentage of each category within each zone.\n",
        "\n",
        "First, let's add a land cover image to the map."
      ]
    },
    {
      "cell_type": "code",
      "execution_count": null,
      "metadata": {
        "id": "x6gPzmug4U6P"
      },
      "outputs": [],
      "source": [
        "m = geemap.Map(center=[40, -100], zoom=4)\n",
        "dataset = ee.Image(\"USGS/NLCD_RELEASES/2021_REL/NLCD/2021\")\n",
        "landcover = dataset.select(\"landcover\")\n",
        "m.add_layer(landcover, {}, \"NLCD 2021\", True, 0.7)\n",
        "states = ee.FeatureCollection(\"TIGER/2018/States\").filterBounds(\n",
        "    ee.Geometry.BBox(-127, 23, -66, 50)\n",
        ")\n",
        "style = {\"fillColor\": \"00000000\"}\n",
        "m.add_layer(states.style(**style), {}, \"US States\")\n",
        "m.add_legend(title=\"NLCD Land Cover\", builtin_legend=\"NLCD\")\n",
        "m"
      ]
    },
    {
      "cell_type": "markdown",
      "metadata": {
        "id": "TtGBFHzl4U6P"
      },
      "source": [
        "Calculate the total area of each land cover type for each state."
      ]
    },
    {
      "cell_type": "code",
      "execution_count": null,
      "metadata": {
        "id": "-PygT2Rj4U6P"
      },
      "outputs": [],
      "source": [
        "landcover_stats = geemap.zonal_stats_by_group(\n",
        "    landcover,\n",
        "    states,\n",
        "    stats_type=\"SUM\",\n",
        "    scale=1000,\n",
        "    denominator=1e6,  # Convert the unit to sq. km\n",
        "    decimal_places=2,\n",
        "    return_fc=True,\n",
        "    verbose=False,\n",
        ")"
      ]
    },
    {
      "cell_type": "markdown",
      "metadata": {
        "id": "Pde1kXte4U6Q"
      },
      "source": [
        "Convert the result to a Pandas DataFrame."
      ]
    },
    {
      "cell_type": "code",
      "execution_count": null,
      "metadata": {
        "id": "44YlIWeZ4U6Q"
      },
      "outputs": [],
      "source": [
        "landcover_df = geemap.ee_to_df(landcover_stats)\n",
        "landcover_df.sort_values(\"Class_82\", ascending=False).head()"
      ]
    },
    {
      "cell_type": "markdown",
      "metadata": {
        "id": "CK23ABtK4U6Q"
      },
      "source": [
        "Create a bar chart to show the total area of crop land for each state."
      ]
    },
    {
      "cell_type": "code",
      "execution_count": null,
      "metadata": {
        "id": "By9yGToj4U6Q"
      },
      "outputs": [],
      "source": [
        "geemap.bar_chart(\n",
        "    landcover_df,\n",
        "    x=\"NAME\",\n",
        "    y=\"Class_82\",\n",
        "    x_label=\"State\",\n",
        "    y_label=\"Crop Area (km2)\",\n",
        "    title=\"Crop Area by State\",\n",
        ")"
      ]
    },
    {
      "cell_type": "markdown",
      "metadata": {
        "id": "QM5v68q94U6Q"
      },
      "source": [
        "Create a pie chart to show each state's contribution to the total crop area of the contiguous United States."
      ]
    },
    {
      "cell_type": "code",
      "execution_count": null,
      "metadata": {
        "id": "zW3iNU9l4U6Q"
      },
      "outputs": [],
      "source": [
        "geemap.pie_chart(\n",
        "    landcover_df,\n",
        "    \"NAME\",\n",
        "    \"Class_82\",\n",
        "    title=\"Crop Area by State\",\n",
        "    height=600,\n",
        "    max_rows=30,\n",
        ")"
      ]
    },
    {
      "cell_type": "markdown",
      "metadata": {
        "id": "2wRc57V-4U6Q"
      },
      "source": [
        "## To GeoPandas GeoDataFrame\n",
        "\n",
        "In addition to Pandas DataFrame, we can also convert an Earth Engine FeatureCollection to a GeoPandas GeoDataFrame. The `ee_to_gdf()` function is similar to the `ee_to_df()` function, but it returns a GeoPandas GeoDataFrame.\n",
        "\n",
        "Let's convert the feature collection resulting from the elevation zonal statistics above to a GeoPandas GeoDataFrame."
      ]
    },
    {
      "cell_type": "code",
      "execution_count": null,
      "metadata": {
        "id": "6qs9socr4U6Q"
      },
      "outputs": [],
      "source": [
        "dem_gdf = geemap.ee_to_gdf(dem_stats)\n",
        "dem_gdf.head()"
      ]
    },
    {
      "cell_type": "markdown",
      "metadata": {
        "id": "MjIxTKpz4U6Q"
      },
      "source": [
        "Create a choropleth map to show the mean elevation for each state."
      ]
    },
    {
      "cell_type": "code",
      "execution_count": null,
      "metadata": {
        "id": "rbGRl0U_4U6R"
      },
      "outputs": [],
      "source": [
        "if not in_colab_shell():  # This code block does not work well in Colab. Skip it\n",
        "    m = geemap.Map(center=[40, -100], zoom=4)\n",
        "    m.add_data(\n",
        "        dem_gdf,\n",
        "        column=\"mean\",\n",
        "        cmap=\"terrain\",\n",
        "        scheme=\"Quantiles\",\n",
        "        k=10,\n",
        "        layer_name=\"Mean Elevation\",\n",
        "        legend_title=\"Mean Elevation (m)\",\n",
        "    )\n",
        "    m"
      ]
    },
    {
      "cell_type": "markdown",
      "metadata": {
        "id": "mW9hs2DHAAgE"
      },
      "source": [
        "![](https://i.imgur.com/XioEMRN.png)"
      ]
    },
    {
      "cell_type": "markdown",
      "metadata": {
        "id": "_h-raLnf4U6R"
      },
      "source": [
        "Save the GeoDataFrame to a GeoJSON file."
      ]
    },
    {
      "cell_type": "code",
      "execution_count": null,
      "metadata": {
        "id": "3OZiBra64U6R"
      },
      "outputs": [],
      "source": [
        "dem_gdf.to_file(\"dem.geojson\", driver=\"GeoJSON\")"
      ]
    },
    {
      "cell_type": "markdown",
      "metadata": {
        "id": "6lm4KX9w4U6R"
      },
      "source": [
        "Visualize the GeoJSON file in 3D using the pydeck mapping backend."
      ]
    },
    {
      "cell_type": "code",
      "execution_count": null,
      "metadata": {
        "id": "iun6o4BJ4U6R"
      },
      "outputs": [],
      "source": [
        "import geemap.deck as geemap"
      ]
    },
    {
      "cell_type": "code",
      "execution_count": null,
      "metadata": {
        "id": "4wjKpOCZ4U6R"
      },
      "outputs": [],
      "source": [
        "if not in_colab_shell():  # This code block does not work well in Colab. Skip it\n",
        "    initial_view_state = {\n",
        "        \"latitude\": 40,\n",
        "        \"longitude\": -100,\n",
        "        \"zoom\": 3,\n",
        "        \"pitch\": 45,\n",
        "        \"bearing\": 10,\n",
        "    }\n",
        "    m = geemap.Map(initial_view_state=initial_view_state)\n",
        "    m.add_vector(\n",
        "        \"dem.geojson\",\n",
        "        extruded=True,\n",
        "        get_elevation=\"mean\",\n",
        "        get_fill_color=\"[mean / 10, mean / 10, 0]\",\n",
        "        elevation_scale=100,\n",
        "    )\n",
        "    m"
      ]
    },
    {
      "cell_type": "markdown",
      "metadata": {
        "id": "l0hoS43kBPts"
      },
      "source": [
        "![](https://i.imgur.com/pQo7OkQ.png)"
      ]
    },
    {
      "cell_type": "markdown",
      "metadata": {
        "id": "KfHYZHGc4U6V"
      },
      "source": [
        "## To Dask DataFrame\n",
        "\n",
        "[Dask DataFrame](https://docs.dask.org/en/stable/dataframe.html) helps you process large tabular data by parallelizing pandas, either on your laptop for larger-than-memory computing, or on a distributed cluster of computers.\n",
        "\n",
        "The [dask-ee](https://github.com/alxmrs/dask-ee) Python package provides a bridge between Dask and Google Earth Engine. It allows you to use Dask to process Earth Engine vector data, which can be useful for large-scale data processing."
      ]
    },
    {
      "cell_type": "code",
      "execution_count": null,
      "metadata": {
        "id": "dB5xOYGA4U6V"
      },
      "outputs": [],
      "source": [
        "import dask_ee\n",
        "import geemap"
      ]
    },
    {
      "cell_type": "markdown",
      "metadata": {
        "id": "hyYZeodm4U6V"
      },
      "source": [
        "Let's use the [Global Power Plant Database](https://developers.google.com/earth-engine/datasets/catalog/WRI_GPPD_power_plants) as an example."
      ]
    },
    {
      "cell_type": "code",
      "execution_count": null,
      "metadata": {
        "id": "-eBlJ9yv4U6V"
      },
      "outputs": [],
      "source": [
        "fuels = [\n",
        "    \"Coal\",\n",
        "    \"Oil\",\n",
        "    \"Gas\",\n",
        "    \"Hydro\",\n",
        "    \"Nuclear\",\n",
        "    \"Solar\",\n",
        "    \"Waste\",\n",
        "    \"Wind\",\n",
        "    \"Geothermal\",\n",
        "    \"Biomass\",\n",
        "]\n",
        "colors = [\n",
        "    \"000000\",\n",
        "    \"593704\",\n",
        "    \"BC80BD\",\n",
        "    \"0565A6\",\n",
        "    \"E31A1C\",\n",
        "    \"FF7F00\",\n",
        "    \"6A3D9A\",\n",
        "    \"5CA2D1\",\n",
        "    \"FDBF6F\",\n",
        "    \"229A00\",\n",
        "]\n",
        "fc = ee.FeatureCollection(\"WRI/GPPD/power_plants\").filter(\n",
        "    ee.Filter.inList(\"fuel1\", fuels)\n",
        ")\n",
        "styled_fc = geemap.ee_vector_style(fc, column=\"fuel1\", labels=fuels, color=colors)\n",
        "m = geemap.Map(center=[40, -100], zoom=4)\n",
        "m.add_layer(styled_fc, {}, \"Power Plants\")\n",
        "m.add_legend(title=\"Power Plant Fuel Type\", labels=fuels, colors=colors)\n",
        "m"
      ]
    },
    {
      "cell_type": "markdown",
      "metadata": {
        "id": "bDXljFBS4U6V"
      },
      "source": [
        "Convert the Earth Engine FeatureCollection to a Dask DataFrame using the `read_ee()` function."
      ]
    },
    {
      "cell_type": "code",
      "execution_count": null,
      "metadata": {
        "id": "Ww2SIX4i4U6V"
      },
      "outputs": [],
      "source": [
        "df = dask_ee.read_ee(\"WRI/GPPD/power_plants\")\n",
        "df"
      ]
    },
    {
      "cell_type": "markdown",
      "metadata": {
        "id": "AAHYnfgq4U6V"
      },
      "source": [
        "Note that the Dask dataframe above only shows the structure of our feature collection - the columns and datatypes, but no actual data has been loaded yet. To load the data, we can use the `compute()` method."
      ]
    },
    {
      "cell_type": "code",
      "execution_count": null,
      "metadata": {
        "id": "kYHdAE2r4U6W"
      },
      "outputs": [],
      "source": [
        "df.compute().head()"
      ]
    },
    {
      "cell_type": "markdown",
      "metadata": {
        "id": "v16KLyac4U6W"
      },
      "source": [
        "Plot the total capacity of coal and wind plants in the United States, by year of commissioning."
      ]
    },
    {
      "cell_type": "code",
      "execution_count": null,
      "metadata": {
        "id": "sOGDrjLK4U6W"
      },
      "outputs": [],
      "source": [
        "(\n",
        "    df[df.comm_year.gt(1940) & df.country.eq(\"USA\") & df.fuel1.isin([\"Coal\", \"Wind\"])]\n",
        "    .astype(\n",
        "        {\"comm_year\": int}\n",
        "    )  # Year of plant operation, weighted by unit-capacity when data is available\n",
        "    .drop(columns=[\"geo\"])\n",
        "    .groupby([\"comm_year\", \"fuel1\"])\n",
        "    .agg({\"capacitymw\": \"sum\"})  # \tElectrical generating capacity in megawatts\n",
        "    .reset_index()\n",
        "    .sort_values(by=[\"comm_year\"])\n",
        "    .compute(scheduler=\"threads\")\n",
        "    .pivot_table(index=\"comm_year\", columns=\"fuel1\", values=\"capacitymw\", fill_value=0)\n",
        "    .plot()\n",
        ")"
      ]
    },
    {
      "cell_type": "markdown",
      "metadata": {
        "id": "D8H1GKGD4U6W"
      },
      "source": [
        "## To NumPy Array\n",
        "\n",
        "To convert an Earth Engine Image to a NumPy array, we can use the `ee_to_numpy()` function, which uses `ee.data.computePixels()` under the hood.\n",
        "\n",
        "Let's add a Landsat satellite image to the map."
      ]
    },
    {
      "cell_type": "code",
      "execution_count": null,
      "metadata": {
        "id": "xeXzbppW4U6W"
      },
      "outputs": [],
      "source": [
        "m = geemap.Map()\n",
        "\n",
        "image = ee.Image(\"LANDSAT/LC08/C02/T1_TOA/LC08_044034_20140318\").select(\n",
        "    [\"B5\", \"B4\", \"B3\"]\n",
        ")\n",
        "\n",
        "vis_params = {\"min\": 0, \"max\": 0.5, \"gamma\": [0.95, 1.1, 1]}\n",
        "\n",
        "m.center_object(image, 8)\n",
        "m.add_layer(image, vis_params, \"Landsat\")\n",
        "\n",
        "region = ee.Geometry.BBox(-122.5955, 37.5339, -122.0982, 37.8252)\n",
        "fc = ee.FeatureCollection(region)\n",
        "style = {\"color\": \"ffff00ff\", \"fillColor\": \"00000000\"}\n",
        "m.add_layer(fc.style(**style), {}, \"ROI\")\n",
        "m"
      ]
    },
    {
      "cell_type": "markdown",
      "metadata": {
        "id": "wVepW5I64U6W"
      },
      "source": [
        "Convert a subset of the image to a NumPy array using the `ee_to_numpy()` function."
      ]
    },
    {
      "cell_type": "code",
      "execution_count": null,
      "metadata": {
        "id": "mptmNy054U6W"
      },
      "outputs": [],
      "source": [
        "region = ee.Geometry.BBox(-122.5955, 37.5339, -122.0982, 37.8252)\n",
        "rgb_img = geemap.ee_to_numpy(image, region=region)"
      ]
    },
    {
      "cell_type": "code",
      "execution_count": null,
      "metadata": {
        "id": "BaZ3S2vW4U6W"
      },
      "outputs": [],
      "source": [
        "print(rgb_img.shape)"
      ]
    },
    {
      "cell_type": "markdown",
      "metadata": {
        "id": "qdfTWrcG4U6X"
      },
      "source": [
        "Display the NumPy array using Matplotlib."
      ]
    },
    {
      "cell_type": "code",
      "execution_count": null,
      "metadata": {
        "id": "BzESsQV_4U6X"
      },
      "outputs": [],
      "source": [
        "import matplotlib.pyplot as plt\n",
        "\n",
        "rgb_img_test = (255 * ((rgb_img[:, :, 0:3]) + 0.2)).astype(\"uint8\")\n",
        "plt.imshow(rgb_img_test)\n",
        "plt.show()"
      ]
    },
    {
      "cell_type": "markdown",
      "metadata": {
        "id": "YiuDG4wk4U6X"
      },
      "source": [
        "## To Xarray Dataset\n",
        "\n",
        "The [Xee](https://github.com/google/Xee) Python package provides a bridge between Xarray and Google Earth Engine. It allows you to convert Earth Engine Image objects to Xarray DataArray objects.\n",
        "\n",
        "In this section, we will use the [ERA5 hourly data](https://developers.google.com/earth-engine/datasets/catalog/ECMWF_ERA5_LAND_HOURLY) to demonstrate how to convert an Earth Engine ImageCollection to an Xarray Dataset.\n",
        "\n",
        "NASA reported that July 2023 as Hottest Month on Record Ever Since 1880 ([source](https://www.nasa.gov/news-release/nasa-clocks-july-2023-as-hottest-month-on-record-ever-since-1880)). Let's use Google Earth Engine to retrieve the temperature data for July 2023.\n",
        "\n",
        "![](https://www.nasa.gov/wp-content/uploads/2023/08/microsoftteams-image_26.png)"
      ]
    },
    {
      "cell_type": "markdown",
      "metadata": {
        "id": "YCHqbIFp4U6X"
      },
      "source": [
        "First, let's filter the ERA5 hourly data for July 2023 and select the temperature band."
      ]
    },
    {
      "cell_type": "code",
      "execution_count": null,
      "metadata": {
        "id": "QdScwO154U6X"
      },
      "outputs": [],
      "source": [
        "m = geemap.Map(center=[40, -100], zoom=4)\n",
        "dataset = (\n",
        "    ee.ImageCollection(\"ECMWF/ERA5_LAND/HOURLY\")\n",
        "    .filter(ee.Filter.date(\"2023-07-01\", \"2023-08-01\"))\n",
        "    .select(\"temperature_2m\")\n",
        ")\n",
        "temp = dataset.mean()\n",
        "temp_vis = {\"min\": 270, \"max\": 310, \"palette\": \"coolwarm\"}\n",
        "m.add_layer(temp, temp_vis, \"Temperature\")\n",
        "m.add_colorbar(temp_vis, label=\"Temperature (K)\", layer_name=\"Temperature\")\n",
        "m"
      ]
    },
    {
      "cell_type": "markdown",
      "metadata": {
        "id": "rHbGuFOk4U6X"
      },
      "source": [
        "To convert the ImageCollection to an Xarray Dataset, let's initialize EE with the high-volume endpoint."
      ]
    },
    {
      "cell_type": "code",
      "execution_count": null,
      "metadata": {
        "id": "rxisow8J4U6X"
      },
      "outputs": [],
      "source": [
        "url = \"https://earthengine-highvolume.googleapis.com\"\n",
        "ee.Initialize(url=url, project=EE_PROJECT_ID)"
      ]
    },
    {
      "cell_type": "markdown",
      "metadata": {
        "id": "TnrGrq2T4U6X"
      },
      "source": [
        "Now, we can convert the ImageCollection to an Xarray Dataset using the `geemap.ee_to_xarray()` function, which uses xee under the hood."
      ]
    },
    {
      "cell_type": "code",
      "execution_count": null,
      "metadata": {
        "id": "fETMPBfy4U6X"
      },
      "outputs": [],
      "source": [
        "ds = geemap.ee_to_xarray(dataset, n_images=-1, ee_initialize=False)\n",
        "ds"
      ]
    },
    {
      "cell_type": "markdown",
      "metadata": {
        "id": "_Qh1E3Ck4U6Y"
      },
      "source": [
        "We can see that the xarray dataset has three dimensions: time, lon, and lat. The time dimension has 744 elements, which is the number of hours in the month of July 2023. The lon and lat dimensions are the number of pixels in the x and y directions, respectively. The dataset has one variable: `temperature_2m`."
      ]
    },
    {
      "cell_type": "code",
      "execution_count": null,
      "metadata": {
        "id": "vEnXI8uF4U6Y"
      },
      "outputs": [],
      "source": [
        "da = ds[\"temperature_2m\"]"
      ]
    },
    {
      "cell_type": "markdown",
      "metadata": {
        "id": "nU7EUele4U6Y"
      },
      "source": [
        "Plot the first time step of the temperature data."
      ]
    },
    {
      "cell_type": "code",
      "execution_count": null,
      "metadata": {
        "id": "aopa3B3R4U6Y"
      },
      "outputs": [],
      "source": [
        "da.isel(time=1).plot(x=\"lon\", y=\"lat\", aspect=2, size=6, cmap=\"coolwarm\")"
      ]
    },
    {
      "cell_type": "markdown",
      "metadata": {
        "id": "044Wlbgk4U6Y"
      },
      "source": [
        "Select the temperature data for July 1, 2023, 12:00:00 AM UTC and the horizontal profiles of the temperature data at different latitudes."
      ]
    },
    {
      "cell_type": "code",
      "execution_count": null,
      "metadata": {
        "id": "K03jLjV24U6Y"
      },
      "outputs": [],
      "source": [
        "da.isel(time=1).sel(lat=[10, 30, 50, 70], method=\"nearest\").plot(x=\"lon\", hue=\"lat\")"
      ]
    },
    {
      "cell_type": "markdown",
      "metadata": {
        "id": "UYnKrQjk4U6Y"
      },
      "source": [
        "Calculate the mean temperature for July 2023."
      ]
    },
    {
      "cell_type": "code",
      "execution_count": null,
      "metadata": {
        "id": "Y_TqvcLu4U6Y"
      },
      "outputs": [],
      "source": [
        "da.mean(dim=\"time\").plot(x=\"lon\", y=\"lat\", aspect=2, size=6, cmap=\"coolwarm\")"
      ]
    },
    {
      "cell_type": "markdown",
      "metadata": {
        "id": "jRUNKl5v4U6Y"
      },
      "source": [
        "Select daily images at 16:00:00 AM UTC (12 PM EST) in July 2023."
      ]
    },
    {
      "cell_type": "code",
      "execution_count": null,
      "metadata": {
        "id": "xipjNJwo4U6Z"
      },
      "outputs": [],
      "source": [
        "time_at_16 = da.sel(time=da[\"time\"].dt.hour == 16)\n",
        "time_at_16.shape"
      ]
    },
    {
      "cell_type": "markdown",
      "metadata": {
        "id": "D9CwmoP24U6Z"
      },
      "source": [
        "Calculate the mean temperature at 12 PM EST for July 2023."
      ]
    },
    {
      "cell_type": "code",
      "execution_count": null,
      "metadata": {
        "id": "DFqjav4r4U6Z"
      },
      "outputs": [],
      "source": [
        "time_at_16.mean(dim=\"time\").plot(x=\"lon\", y=\"lat\", aspect=2, size=6, cmap=\"coolwarm\")"
      ]
    },
    {
      "cell_type": "markdown",
      "metadata": {
        "id": "iVmDDSI24U6Z"
      },
      "source": [
        "Select monthly images at 16:00:00 AM UTC (12 PM EST) in 2023."
      ]
    },
    {
      "cell_type": "code",
      "execution_count": null,
      "metadata": {
        "id": "rPB-4dUr4U6Z"
      },
      "outputs": [],
      "source": [
        "dataset = (\n",
        "    ee.ImageCollection(\"ECMWF/ERA5_LAND/HOURLY\")\n",
        "    .filter(ee.Filter.date(\"2023-01-01\", \"2024-01-01\"))\n",
        "    .filter(ee.Filter.calendarRange(1, 1, \"day_of_month\"))\n",
        "    .filter(ee.Filter.calendarRange(16, 16, \"hour\"))\n",
        "    .select(\"temperature_2m\")\n",
        ")"
      ]
    },
    {
      "cell_type": "markdown",
      "metadata": {
        "id": "6ZMQCpN84U6Z"
      },
      "source": [
        "Convert the monthly images to an Xarray Dataset."
      ]
    },
    {
      "cell_type": "code",
      "execution_count": null,
      "metadata": {
        "id": "OgTzZBj94U6Z"
      },
      "outputs": [],
      "source": [
        "ds = geemap.ee_to_xarray(dataset, n_images=-1, ee_initialize=False)\n",
        "ds"
      ]
    },
    {
      "cell_type": "markdown",
      "metadata": {
        "id": "eG8vddGq4U6Z"
      },
      "source": [
        "Select the temperature variable from the dataset."
      ]
    },
    {
      "cell_type": "code",
      "execution_count": null,
      "metadata": {
        "id": "qiaZptjv4U6a"
      },
      "outputs": [],
      "source": [
        "monthly_da = ds[\"temperature_2m\"]"
      ]
    },
    {
      "cell_type": "markdown",
      "metadata": {
        "id": "3FaM81bv4U6a"
      },
      "source": [
        "Plot the temperature data for the first date of each month in 2023."
      ]
    },
    {
      "cell_type": "code",
      "execution_count": null,
      "metadata": {
        "id": "GF3VHkPX4U6a"
      },
      "outputs": [],
      "source": [
        "import matplotlib.pyplot as plt\n",
        "\n",
        "fig, axes = plt.subplots(nrows=4, ncols=3, figsize=(20, 15))\n",
        "axes = axes.flatten()\n",
        "cbar_ax = fig.add_axes([0.92, 0.3, 0.01, 0.4])\n",
        "\n",
        "for i, time in enumerate(monthly_da.time):\n",
        "    data = monthly_da.isel(time=i)\n",
        "    im = data.plot(ax=axes[i], x=\"lon\", y=\"lat\", cmap=\"coolwarm\", add_colorbar=False)\n",
        "    axes[i].set_aspect(aspect=\"equal\")\n",
        "    axes[i].set_title(str(time.values)[:10])\n",
        "\n",
        "fig.colorbar(im, cax=cbar_ax)\n",
        "plt.show()"
      ]
    },
    {
      "cell_type": "markdown",
      "metadata": {
        "id": "YkcdYRn64U6a"
      },
      "source": [
        "## 3D visualization\n",
        "\n",
        "The [HyperCoast](https://hypercoast.org) Python package provides some functions to visualize Xarray datasets in 3D using [PyVista](https://pyvista.org). Note that the PyVista 3D visualization backend does not work in Google Colab ([source](https://tutorial.pyvista.org/getting-started.html#google-colab)). However, you can uncomment the following two code blocks to enable static plotting in Google Colab."
      ]
    },
    {
      "cell_type": "code",
      "execution_count": null,
      "metadata": {
        "id": "CsCSSzFL4U6a"
      },
      "outputs": [],
      "source": [
        "# !apt-get install -qq xvfb libgl1-mesa-glx\n",
        "# !pip install pyvista -qq"
      ]
    },
    {
      "cell_type": "code",
      "execution_count": null,
      "metadata": {
        "id": "r0NI36rl4U6a"
      },
      "outputs": [],
      "source": [
        "# import pyvista\n",
        "\n",
        "# pyvista.set_jupyter_backend('static')\n",
        "# pyvista.global_theme.notebook = True\n",
        "# pyvista.start_xvfb()"
      ]
    },
    {
      "cell_type": "code",
      "execution_count": null,
      "metadata": {
        "id": "U3R4ilhr4U6a"
      },
      "outputs": [],
      "source": [
        "import hypercoast"
      ]
    },
    {
      "cell_type": "markdown",
      "metadata": {
        "id": "W_Fu_h0r4U6a"
      },
      "source": [
        "First, we need to transpose the Xarray Dataset to have the time dimension as the last dimension."
      ]
    },
    {
      "cell_type": "code",
      "execution_count": null,
      "metadata": {
        "id": "ht8K3B-I4U6a"
      },
      "outputs": [],
      "source": [
        "ds = ds.transpose(\"lat\", \"lon\", \"time\")"
      ]
    },
    {
      "cell_type": "code",
      "execution_count": null,
      "metadata": {
        "id": "gB_OTJ_9_FDI"
      },
      "outputs": [],
      "source": [
        "ds"
      ]
    },
    {
      "cell_type": "markdown",
      "metadata": {
        "id": "ayKvQMIf4U6a"
      },
      "source": [
        "Visualize the monthly temperature data in 3D."
      ]
    },
    {
      "cell_type": "code",
      "execution_count": null,
      "metadata": {
        "id": "2lV5gYws4U6b"
      },
      "outputs": [],
      "source": [
        "if not in_colab_shell():  # This code block does not work well in Colab. Skip it\n",
        "    p = hypercoast.image_cube(\n",
        "        ds,\n",
        "        variable=\"temperature_2m\",\n",
        "        clim=(270, 310),\n",
        "        title=\"Temperature\",\n",
        "        cmap=\"coolwarm\",\n",
        "        grid_spacing=(1, 1, 3),\n",
        "    )\n",
        "    p.camera_position = [\n",
        "        (-479.09, -82.89, -444.45),\n",
        "        (89.5, 179.5, 16.5),\n",
        "        (0.58, 0.14, -0.80),\n",
        "    ]\n",
        "    p.show()"
      ]
    },
    {
      "cell_type": "markdown",
      "metadata": {
        "id": "7E-xGnOf4U6b"
      },
      "source": [
        "![](https://i.imgur.com/0AH5k1F.png)"
      ]
    },
    {
      "cell_type": "markdown",
      "metadata": {
        "id": "t54xrri04U6b"
      },
      "source": [
        "Interactive thresholding of the temperature data."
      ]
    },
    {
      "cell_type": "code",
      "execution_count": null,
      "metadata": {
        "id": "GEbQ6xVL4U6b"
      },
      "outputs": [],
      "source": [
        "if not in_colab_shell():  # This code block does not work well in Colab. Skip it\n",
        "    p = hypercoast.image_cube(\n",
        "        ds,\n",
        "        variable=\"temperature_2m\",\n",
        "        clim=(270, 310),\n",
        "        title=\"Temperature\",\n",
        "        cmap=\"coolwarm\",\n",
        "        widget=\"threshold\",\n",
        "    )\n",
        "    p.camera_position = [\n",
        "        (-479.09, -82.89, -444.45),\n",
        "        (89.5, 179.5, 16.5),\n",
        "        (0.58, 0.14, -0.80),\n",
        "    ]\n",
        "    p.show()"
      ]
    },
    {
      "cell_type": "markdown",
      "metadata": {
        "id": "ETnWQ9Ad4U6b"
      },
      "source": [
        "![](https://i.imgur.com/qaKkmKX.gif)"
      ]
    }
  ],
  "metadata": {
    "colab": {
      "provenance": [],
      "include_colab_link": true
    },
    "kernelspec": {
      "display_name": "Python 3 (ipykernel)",
      "language": "python",
      "name": "python3"
    },
    "language_info": {
      "codemirror_mode": {
        "name": "ipython",
        "version": 3
      },
      "file_extension": ".py",
      "mimetype": "text/x-python",
      "name": "python",
      "nbconvert_exporter": "python",
      "pygments_lexer": "ipython3",
      "version": "3.10.14"
    }
  },
  "nbformat": 4,
  "nbformat_minor": 0
}